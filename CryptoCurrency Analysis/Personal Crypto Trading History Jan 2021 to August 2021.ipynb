{
 "cells": [
  {
   "cell_type": "code",
   "execution_count": 1,
   "id": "7946a406",
   "metadata": {},
   "outputs": [],
   "source": [
    "import numpy as np\n",
    "import pandas as pd\n",
    "import matplotlib.pyplot as plt\n",
    "from sklearn import preprocessing\n",
    "import seaborn as sns"
   ]
  },
  {
   "cell_type": "code",
   "execution_count": 2,
   "id": "52872a75",
   "metadata": {},
   "outputs": [],
   "source": [
    "total_history_df = pd.read_csv('Personal Crypto Trading jan to aug 2020.csv')"
   ]
  },
  {
   "cell_type": "code",
   "execution_count": 3,
   "id": "e3a6f177",
   "metadata": {},
   "outputs": [
    {
     "name": "stdout",
     "output_type": "stream",
     "text": [
      "<class 'pandas.core.frame.DataFrame'>\n",
      "RangeIndex: 318 entries, 0 to 317\n",
      "Data columns (total 8 columns):\n",
      " #   Column     Non-Null Count  Dtype  \n",
      "---  ------     --------------  -----  \n",
      " 0   Date(UTC)  318 non-null    object \n",
      " 1   Pair       318 non-null    object \n",
      " 2   Side       318 non-null    object \n",
      " 3   Price      318 non-null    float64\n",
      " 4   Executed   318 non-null    object \n",
      " 5   Amount     318 non-null    object \n",
      " 6   Fee        318 non-null    object \n",
      " 7   Amount($)  318 non-null    float64\n",
      "dtypes: float64(2), object(6)\n",
      "memory usage: 20.0+ KB\n"
     ]
    }
   ],
   "source": [
    "total_history_df.info()"
   ]
  },
  {
   "cell_type": "code",
   "execution_count": 4,
   "id": "84ba5a64",
   "metadata": {},
   "outputs": [],
   "source": [
    "total_history_df['Amount($)'] = pd.to_numeric(total_history_df['Amount($)'])\n",
    "total_history_df['Price'] = pd.to_numeric(total_history_df['Price'])"
   ]
  },
  {
   "cell_type": "code",
   "execution_count": 5,
   "id": "735257bc",
   "metadata": {},
   "outputs": [
    {
     "data": {
      "text/html": [
       "<div>\n",
       "<style scoped>\n",
       "    .dataframe tbody tr th:only-of-type {\n",
       "        vertical-align: middle;\n",
       "    }\n",
       "\n",
       "    .dataframe tbody tr th {\n",
       "        vertical-align: top;\n",
       "    }\n",
       "\n",
       "    .dataframe thead th {\n",
       "        text-align: right;\n",
       "    }\n",
       "</style>\n",
       "<table border=\"1\" class=\"dataframe\">\n",
       "  <thead>\n",
       "    <tr style=\"text-align: right;\">\n",
       "      <th></th>\n",
       "      <th>Price</th>\n",
       "      <th>Amount($)</th>\n",
       "    </tr>\n",
       "  </thead>\n",
       "  <tbody>\n",
       "    <tr>\n",
       "      <th>count</th>\n",
       "      <td>318.000000</td>\n",
       "      <td>318.000000</td>\n",
       "    </tr>\n",
       "    <tr>\n",
       "      <th>mean</th>\n",
       "      <td>1896.045975</td>\n",
       "      <td>49.650049</td>\n",
       "    </tr>\n",
       "    <tr>\n",
       "      <th>std</th>\n",
       "      <td>8925.378892</td>\n",
       "      <td>69.417212</td>\n",
       "    </tr>\n",
       "    <tr>\n",
       "      <th>min</th>\n",
       "      <td>0.010000</td>\n",
       "      <td>0.010850</td>\n",
       "    </tr>\n",
       "    <tr>\n",
       "      <th>25%</th>\n",
       "      <td>1.022500</td>\n",
       "      <td>19.050009</td>\n",
       "    </tr>\n",
       "    <tr>\n",
       "      <th>50%</th>\n",
       "      <td>9.130000</td>\n",
       "      <td>29.885842</td>\n",
       "    </tr>\n",
       "    <tr>\n",
       "      <th>75%</th>\n",
       "      <td>72.960000</td>\n",
       "      <td>50.340085</td>\n",
       "    </tr>\n",
       "    <tr>\n",
       "      <th>max</th>\n",
       "      <td>62913.210000</td>\n",
       "      <td>567.320000</td>\n",
       "    </tr>\n",
       "  </tbody>\n",
       "</table>\n",
       "</div>"
      ],
      "text/plain": [
       "              Price   Amount($)\n",
       "count    318.000000  318.000000\n",
       "mean    1896.045975   49.650049\n",
       "std     8925.378892   69.417212\n",
       "min        0.010000    0.010850\n",
       "25%        1.022500   19.050009\n",
       "50%        9.130000   29.885842\n",
       "75%       72.960000   50.340085\n",
       "max    62913.210000  567.320000"
      ]
     },
     "execution_count": 5,
     "metadata": {},
     "output_type": "execute_result"
    }
   ],
   "source": [
    "total_history_df.describe()"
   ]
  },
  {
   "cell_type": "markdown",
   "id": "467fefd4",
   "metadata": {},
   "source": [
    "## Retreiving data from the dataframe"
   ]
  },
  {
   "cell_type": "code",
   "execution_count": 6,
   "id": "f7868920",
   "metadata": {},
   "outputs": [],
   "source": [
    "# converting BUYs to 1 and SELLs to 0\n",
    "\n",
    "total_history_df['Side'] = total_history_df['Side'].map({'BUY': 1, 'SELL': 0})"
   ]
  },
  {
   "cell_type": "code",
   "execution_count": 7,
   "id": "f784f840",
   "metadata": {},
   "outputs": [],
   "source": [
    "# storing all my sell orders in a new df\n",
    "\n",
    "sell_df = total_history_df[total_history_df['Side'] ==0]"
   ]
  },
  {
   "cell_type": "code",
   "execution_count": 8,
   "id": "2acbdcea",
   "metadata": {},
   "outputs": [
    {
     "data": {
      "text/html": [
       "<div>\n",
       "<style scoped>\n",
       "    .dataframe tbody tr th:only-of-type {\n",
       "        vertical-align: middle;\n",
       "    }\n",
       "\n",
       "    .dataframe tbody tr th {\n",
       "        vertical-align: top;\n",
       "    }\n",
       "\n",
       "    .dataframe thead th {\n",
       "        text-align: right;\n",
       "    }\n",
       "</style>\n",
       "<table border=\"1\" class=\"dataframe\">\n",
       "  <thead>\n",
       "    <tr style=\"text-align: right;\">\n",
       "      <th></th>\n",
       "      <th>Date(UTC)</th>\n",
       "      <th>Pair</th>\n",
       "      <th>Side</th>\n",
       "      <th>Price</th>\n",
       "      <th>Executed</th>\n",
       "      <th>Amount</th>\n",
       "      <th>Fee</th>\n",
       "      <th>Amount($)</th>\n",
       "    </tr>\n",
       "  </thead>\n",
       "  <tbody>\n",
       "    <tr>\n",
       "      <th>5</th>\n",
       "      <td>08/08/2021 20:50</td>\n",
       "      <td>ETHUSDT</td>\n",
       "      <td>0</td>\n",
       "      <td>2983.31</td>\n",
       "      <td>0.0344100000ETH</td>\n",
       "      <td>102.65569710USDT</td>\n",
       "      <td>0.0002265900BNB</td>\n",
       "      <td>102.655697</td>\n",
       "    </tr>\n",
       "    <tr>\n",
       "      <th>6</th>\n",
       "      <td>25/07/2021 15:38</td>\n",
       "      <td>SANDUSDT</td>\n",
       "      <td>0</td>\n",
       "      <td>0.71</td>\n",
       "      <td>58.9000000000SAND</td>\n",
       "      <td>41.74066300USDT</td>\n",
       "      <td>0.0001058900BNB</td>\n",
       "      <td>41.740663</td>\n",
       "    </tr>\n",
       "    <tr>\n",
       "      <th>7</th>\n",
       "      <td>25/07/2021 15:13</td>\n",
       "      <td>SOLUSDT</td>\n",
       "      <td>0</td>\n",
       "      <td>27.17</td>\n",
       "      <td>0.7200000000SOL</td>\n",
       "      <td>19.55952000USDT</td>\n",
       "      <td>0.0000495600BNB</td>\n",
       "      <td>19.559520</td>\n",
       "    </tr>\n",
       "    <tr>\n",
       "      <th>8</th>\n",
       "      <td>24/07/2021 11:11</td>\n",
       "      <td>MANAUSDT</td>\n",
       "      <td>0</td>\n",
       "      <td>0.72</td>\n",
       "      <td>27.8300000000MANA</td>\n",
       "      <td>20.00698700USDT</td>\n",
       "      <td>0.0000495600BNB</td>\n",
       "      <td>20.006987</td>\n",
       "    </tr>\n",
       "    <tr>\n",
       "      <th>9</th>\n",
       "      <td>24/07/2021 11:11</td>\n",
       "      <td>MANAUSDT</td>\n",
       "      <td>0</td>\n",
       "      <td>0.72</td>\n",
       "      <td>14.0500000000MANA</td>\n",
       "      <td>10.10054500USDT</td>\n",
       "      <td>0.0000250200BNB</td>\n",
       "      <td>10.100545</td>\n",
       "    </tr>\n",
       "    <tr>\n",
       "      <th>...</th>\n",
       "      <td>...</td>\n",
       "      <td>...</td>\n",
       "      <td>...</td>\n",
       "      <td>...</td>\n",
       "      <td>...</td>\n",
       "      <td>...</td>\n",
       "      <td>...</td>\n",
       "      <td>...</td>\n",
       "    </tr>\n",
       "    <tr>\n",
       "      <th>262</th>\n",
       "      <td>30/03/2021 16:06</td>\n",
       "      <td>ETHUSDT</td>\n",
       "      <td>0</td>\n",
       "      <td>1829.39</td>\n",
       "      <td>0.0270100000ETH</td>\n",
       "      <td>49.41182390USDT</td>\n",
       "      <td>0.0001260600BNB</td>\n",
       "      <td>49.411824</td>\n",
       "    </tr>\n",
       "    <tr>\n",
       "      <th>279</th>\n",
       "      <td>26/03/2021 15:00</td>\n",
       "      <td>THETAUSDT</td>\n",
       "      <td>0</td>\n",
       "      <td>12.46</td>\n",
       "      <td>1.7000000000THETA</td>\n",
       "      <td>21.18898700USDT</td>\n",
       "      <td>0.0000639300BNB</td>\n",
       "      <td>21.188987</td>\n",
       "    </tr>\n",
       "    <tr>\n",
       "      <th>290</th>\n",
       "      <td>24/03/2021 18:36</td>\n",
       "      <td>VETUSDT</td>\n",
       "      <td>0</td>\n",
       "      <td>0.09</td>\n",
       "      <td>219.0000000000VET</td>\n",
       "      <td>20.34707100USDT</td>\n",
       "      <td>0.0000585300BNB</td>\n",
       "      <td>20.347071</td>\n",
       "    </tr>\n",
       "    <tr>\n",
       "      <th>296</th>\n",
       "      <td>23/03/2021 20:42</td>\n",
       "      <td>VETUSDT</td>\n",
       "      <td>0</td>\n",
       "      <td>0.08</td>\n",
       "      <td>248.0000000000VET</td>\n",
       "      <td>20.36352800USDT</td>\n",
       "      <td>0.0203635300USDT</td>\n",
       "      <td>20.363528</td>\n",
       "    </tr>\n",
       "    <tr>\n",
       "      <th>297</th>\n",
       "      <td>23/03/2021 19:26</td>\n",
       "      <td>THETAUSDT</td>\n",
       "      <td>0</td>\n",
       "      <td>13.20</td>\n",
       "      <td>1.7000000000THETA</td>\n",
       "      <td>22.44120700USDT</td>\n",
       "      <td>0.0224412100USDT</td>\n",
       "      <td>22.441207</td>\n",
       "    </tr>\n",
       "  </tbody>\n",
       "</table>\n",
       "<p>117 rows × 8 columns</p>\n",
       "</div>"
      ],
      "text/plain": [
       "            Date(UTC)       Pair  Side    Price           Executed  \\\n",
       "5    08/08/2021 20:50    ETHUSDT     0  2983.31    0.0344100000ETH   \n",
       "6    25/07/2021 15:38   SANDUSDT     0     0.71  58.9000000000SAND   \n",
       "7    25/07/2021 15:13    SOLUSDT     0    27.17    0.7200000000SOL   \n",
       "8    24/07/2021 11:11   MANAUSDT     0     0.72  27.8300000000MANA   \n",
       "9    24/07/2021 11:11   MANAUSDT     0     0.72  14.0500000000MANA   \n",
       "..                ...        ...   ...      ...                ...   \n",
       "262  30/03/2021 16:06    ETHUSDT     0  1829.39    0.0270100000ETH   \n",
       "279  26/03/2021 15:00  THETAUSDT     0    12.46  1.7000000000THETA   \n",
       "290  24/03/2021 18:36    VETUSDT     0     0.09  219.0000000000VET   \n",
       "296  23/03/2021 20:42    VETUSDT     0     0.08  248.0000000000VET   \n",
       "297  23/03/2021 19:26  THETAUSDT     0    13.20  1.7000000000THETA   \n",
       "\n",
       "               Amount               Fee   Amount($)  \n",
       "5    102.65569710USDT   0.0002265900BNB  102.655697  \n",
       "6     41.74066300USDT   0.0001058900BNB   41.740663  \n",
       "7     19.55952000USDT   0.0000495600BNB   19.559520  \n",
       "8     20.00698700USDT   0.0000495600BNB   20.006987  \n",
       "9     10.10054500USDT   0.0000250200BNB   10.100545  \n",
       "..                ...               ...         ...  \n",
       "262   49.41182390USDT   0.0001260600BNB   49.411824  \n",
       "279   21.18898700USDT   0.0000639300BNB   21.188987  \n",
       "290   20.34707100USDT   0.0000585300BNB   20.347071  \n",
       "296   20.36352800USDT  0.0203635300USDT   20.363528  \n",
       "297   22.44120700USDT  0.0224412100USDT   22.441207  \n",
       "\n",
       "[117 rows x 8 columns]"
      ]
     },
     "execution_count": 8,
     "metadata": {},
     "output_type": "execute_result"
    }
   ],
   "source": [
    "sell_df"
   ]
  },
  {
   "cell_type": "code",
   "execution_count": 9,
   "id": "2055bee9",
   "metadata": {},
   "outputs": [],
   "source": [
    "# storing all my buy orders in a new df\n",
    "\n",
    "buy_df = total_history_df[total_history_df['Side'] ==1]"
   ]
  },
  {
   "cell_type": "code",
   "execution_count": 10,
   "id": "4361b3ce",
   "metadata": {},
   "outputs": [
    {
     "data": {
      "text/html": [
       "<div>\n",
       "<style scoped>\n",
       "    .dataframe tbody tr th:only-of-type {\n",
       "        vertical-align: middle;\n",
       "    }\n",
       "\n",
       "    .dataframe tbody tr th {\n",
       "        vertical-align: top;\n",
       "    }\n",
       "\n",
       "    .dataframe thead th {\n",
       "        text-align: right;\n",
       "    }\n",
       "</style>\n",
       "<table border=\"1\" class=\"dataframe\">\n",
       "  <thead>\n",
       "    <tr style=\"text-align: right;\">\n",
       "      <th></th>\n",
       "      <th>Date(UTC)</th>\n",
       "      <th>Pair</th>\n",
       "      <th>Side</th>\n",
       "      <th>Price</th>\n",
       "      <th>Executed</th>\n",
       "      <th>Amount</th>\n",
       "      <th>Fee</th>\n",
       "      <th>Amount($)</th>\n",
       "    </tr>\n",
       "  </thead>\n",
       "  <tbody>\n",
       "    <tr>\n",
       "      <th>0</th>\n",
       "      <td>21/08/2021 09:05</td>\n",
       "      <td>EOSUSDT</td>\n",
       "      <td>1</td>\n",
       "      <td>5.51</td>\n",
       "      <td>14.4900000000EOS</td>\n",
       "      <td>79.89930900USDT</td>\n",
       "      <td>0.0001314900BNB</td>\n",
       "      <td>79.899309</td>\n",
       "    </tr>\n",
       "    <tr>\n",
       "      <th>1</th>\n",
       "      <td>20/08/2021 22:45</td>\n",
       "      <td>ONEUSDT</td>\n",
       "      <td>1</td>\n",
       "      <td>0.11</td>\n",
       "      <td>379.9000000000ONE</td>\n",
       "      <td>42.44622700USDT</td>\n",
       "      <td>0.0000705600BNB</td>\n",
       "      <td>42.446227</td>\n",
       "    </tr>\n",
       "    <tr>\n",
       "      <th>2</th>\n",
       "      <td>20/08/2021 19:42</td>\n",
       "      <td>ERNUSDT</td>\n",
       "      <td>1</td>\n",
       "      <td>22.23</td>\n",
       "      <td>0.9000000000ERN</td>\n",
       "      <td>20.00340000USDT</td>\n",
       "      <td>0.0000340200BNB</td>\n",
       "      <td>20.003400</td>\n",
       "    </tr>\n",
       "    <tr>\n",
       "      <th>3</th>\n",
       "      <td>20/08/2021 19:15</td>\n",
       "      <td>LINKUSDT</td>\n",
       "      <td>1</td>\n",
       "      <td>28.37</td>\n",
       "      <td>1.9690000000LINK</td>\n",
       "      <td>55.86446800USDT</td>\n",
       "      <td>0.0000939500BNB</td>\n",
       "      <td>55.864468</td>\n",
       "    </tr>\n",
       "    <tr>\n",
       "      <th>4</th>\n",
       "      <td>18/08/2021 14:44</td>\n",
       "      <td>ETHUSDT</td>\n",
       "      <td>1</td>\n",
       "      <td>3068.47</td>\n",
       "      <td>0.0338100000ETH</td>\n",
       "      <td>103.74497070USDT</td>\n",
       "      <td>0.0001932200BNB</td>\n",
       "      <td>103.744971</td>\n",
       "    </tr>\n",
       "    <tr>\n",
       "      <th>...</th>\n",
       "      <td>...</td>\n",
       "      <td>...</td>\n",
       "      <td>...</td>\n",
       "      <td>...</td>\n",
       "      <td>...</td>\n",
       "      <td>...</td>\n",
       "      <td>...</td>\n",
       "      <td>...</td>\n",
       "    </tr>\n",
       "    <tr>\n",
       "      <th>313</th>\n",
       "      <td>16/03/2021 20:37</td>\n",
       "      <td>ETHUSDT</td>\n",
       "      <td>1</td>\n",
       "      <td>1794.84</td>\n",
       "      <td>0.2242600000ETH</td>\n",
       "      <td>402.51081840USDT</td>\n",
       "      <td>0.0002242600ETH</td>\n",
       "      <td>402.510818</td>\n",
       "    </tr>\n",
       "    <tr>\n",
       "      <th>314</th>\n",
       "      <td>16/03/2021 19:55</td>\n",
       "      <td>THETAUSDT</td>\n",
       "      <td>1</td>\n",
       "      <td>7.02</td>\n",
       "      <td>7.3000000000THETA</td>\n",
       "      <td>51.23227600USDT</td>\n",
       "      <td>0.0073000000THETA</td>\n",
       "      <td>51.232276</td>\n",
       "    </tr>\n",
       "    <tr>\n",
       "      <th>315</th>\n",
       "      <td>16/03/2021 19:49</td>\n",
       "      <td>ADAUSDT</td>\n",
       "      <td>1</td>\n",
       "      <td>1.23</td>\n",
       "      <td>40.5000000000ADA</td>\n",
       "      <td>49.88871000USDT</td>\n",
       "      <td>0.0405000000ADA</td>\n",
       "      <td>49.888710</td>\n",
       "    </tr>\n",
       "    <tr>\n",
       "      <th>316</th>\n",
       "      <td>21/01/2021 15:26</td>\n",
       "      <td>ETHGBP</td>\n",
       "      <td>1</td>\n",
       "      <td>884.83</td>\n",
       "      <td>0.1135800000ETH</td>\n",
       "      <td>100.49899140GBPG</td>\n",
       "      <td>0.0000000000ETH</td>\n",
       "      <td>100.498991</td>\n",
       "    </tr>\n",
       "    <tr>\n",
       "      <th>317</th>\n",
       "      <td>21/01/2021 15:09</td>\n",
       "      <td>BTCGBP</td>\n",
       "      <td>1</td>\n",
       "      <td>23022.06</td>\n",
       "      <td>0.0021500000BTC</td>\n",
       "      <td>49.49742900GBPG</td>\n",
       "      <td>0.0000000000BTC</td>\n",
       "      <td>49.497429</td>\n",
       "    </tr>\n",
       "  </tbody>\n",
       "</table>\n",
       "<p>201 rows × 8 columns</p>\n",
       "</div>"
      ],
      "text/plain": [
       "            Date(UTC)       Pair  Side     Price           Executed  \\\n",
       "0    21/08/2021 09:05    EOSUSDT     1      5.51   14.4900000000EOS   \n",
       "1    20/08/2021 22:45    ONEUSDT     1      0.11  379.9000000000ONE   \n",
       "2    20/08/2021 19:42    ERNUSDT     1     22.23    0.9000000000ERN   \n",
       "3    20/08/2021 19:15   LINKUSDT     1     28.37   1.9690000000LINK   \n",
       "4    18/08/2021 14:44    ETHUSDT     1   3068.47    0.0338100000ETH   \n",
       "..                ...        ...   ...       ...                ...   \n",
       "313  16/03/2021 20:37    ETHUSDT     1   1794.84    0.2242600000ETH   \n",
       "314  16/03/2021 19:55  THETAUSDT     1      7.02  7.3000000000THETA   \n",
       "315  16/03/2021 19:49    ADAUSDT     1      1.23   40.5000000000ADA   \n",
       "316  21/01/2021 15:26     ETHGBP     1    884.83    0.1135800000ETH   \n",
       "317  21/01/2021 15:09     BTCGBP     1  23022.06    0.0021500000BTC   \n",
       "\n",
       "               Amount                Fee   Amount($)  \n",
       "0     79.89930900USDT    0.0001314900BNB   79.899309  \n",
       "1     42.44622700USDT    0.0000705600BNB   42.446227  \n",
       "2     20.00340000USDT    0.0000340200BNB   20.003400  \n",
       "3     55.86446800USDT    0.0000939500BNB   55.864468  \n",
       "4    103.74497070USDT    0.0001932200BNB  103.744971  \n",
       "..                ...                ...         ...  \n",
       "313  402.51081840USDT    0.0002242600ETH  402.510818  \n",
       "314   51.23227600USDT  0.0073000000THETA   51.232276  \n",
       "315   49.88871000USDT    0.0405000000ADA   49.888710  \n",
       "316  100.49899140GBPG    0.0000000000ETH  100.498991  \n",
       "317   49.49742900GBPG    0.0000000000BTC   49.497429  \n",
       "\n",
       "[201 rows x 8 columns]"
      ]
     },
     "execution_count": 10,
     "metadata": {},
     "output_type": "execute_result"
    }
   ],
   "source": [
    "buy_df"
   ]
  },
  {
   "cell_type": "code",
   "execution_count": 13,
   "id": "4155053f",
   "metadata": {},
   "outputs": [],
   "source": [
    "# total amount of crypto bought\n",
    "\n",
    "total_amt_spent = buy_df['Amount($)'].sum()"
   ]
  },
  {
   "cell_type": "code",
   "execution_count": 15,
   "id": "e6b196eb",
   "metadata": {},
   "outputs": [
    {
     "data": {
      "text/plain": [
       "9900.90611453"
      ]
     },
     "execution_count": 15,
     "metadata": {},
     "output_type": "execute_result"
    }
   ],
   "source": [
    "total_amt_spent"
   ]
  },
  {
   "cell_type": "code",
   "execution_count": 14,
   "id": "e801dcc5",
   "metadata": {},
   "outputs": [],
   "source": [
    "# total amount of crypto sold\n",
    "\n",
    "total_amt_sold = sell_df['Amount($)'].sum()"
   ]
  },
  {
   "cell_type": "code",
   "execution_count": 16,
   "id": "3733169d",
   "metadata": {},
   "outputs": [
    {
     "data": {
      "text/plain": [
       "5887.8095710100015"
      ]
     },
     "execution_count": 16,
     "metadata": {},
     "output_type": "execute_result"
    }
   ],
   "source": [
    "total_amt_sold"
   ]
  },
  {
   "cell_type": "markdown",
   "id": "73046685",
   "metadata": {},
   "source": [
    "## Looking at Specific Coins"
   ]
  },
  {
   "cell_type": "code",
   "execution_count": 18,
   "id": "2db9f809",
   "metadata": {},
   "outputs": [],
   "source": [
    "# storing all Eth buys\n",
    "\n",
    "ETH_BUYS = buy_df[buy_df['Pair'].str.contains(\"ETHUSDT\")]"
   ]
  },
  {
   "cell_type": "code",
   "execution_count": 24,
   "id": "efb5cce6",
   "metadata": {},
   "outputs": [],
   "source": [
    "# storing all Eth sells\n",
    "\n",
    "ETH_SELLS = sell_df[sell_df['Pair'].str.contains(\"ETHUSDT\")]"
   ]
  },
  {
   "cell_type": "code",
   "execution_count": 26,
   "id": "beaf2479",
   "metadata": {},
   "outputs": [],
   "source": [
    "total_eth_spent = ETH_BUYS['Amount($)'].sum()\n",
    "\n",
    "total_eth_sold = ETH_SELLS['Amount($)'].sum()"
   ]
  },
  {
   "cell_type": "code",
   "execution_count": 27,
   "id": "9790c7bd",
   "metadata": {},
   "outputs": [
    {
     "data": {
      "text/plain": [
       "2689.9487789"
      ]
     },
     "execution_count": 27,
     "metadata": {},
     "output_type": "execute_result"
    }
   ],
   "source": [
    "total_eth_spent"
   ]
  },
  {
   "cell_type": "code",
   "execution_count": 28,
   "id": "fac694d1",
   "metadata": {},
   "outputs": [
    {
     "data": {
      "text/plain": [
       "2546.0342745000003"
      ]
     },
     "execution_count": 28,
     "metadata": {},
     "output_type": "execute_result"
    }
   ],
   "source": [
    "total_eth_sold"
   ]
  },
  {
   "cell_type": "code",
   "execution_count": null,
   "id": "d5f328f8",
   "metadata": {},
   "outputs": [],
   "source": []
  }
 ],
 "metadata": {
  "kernelspec": {
   "display_name": "Python 3",
   "language": "python",
   "name": "python3"
  },
  "language_info": {
   "codemirror_mode": {
    "name": "ipython",
    "version": 3
   },
   "file_extension": ".py",
   "mimetype": "text/x-python",
   "name": "python",
   "nbconvert_exporter": "python",
   "pygments_lexer": "ipython3",
   "version": "3.8.8"
  }
 },
 "nbformat": 4,
 "nbformat_minor": 5
}
