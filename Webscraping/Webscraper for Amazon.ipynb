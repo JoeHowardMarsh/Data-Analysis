{
 "cells": [
  {
   "cell_type": "code",
   "execution_count": 1,
   "id": "3852fa28",
   "metadata": {},
   "outputs": [],
   "source": [
    "# importing libraries\n",
    "\n",
    "from bs4 import BeautifulSoup\n",
    "import requests\n",
    "import smtplib\n",
    "import time\n",
    "import datetime\n",
    "import csv\n",
    "import pandas as pd"
   ]
  },
  {
   "cell_type": "code",
   "execution_count": 2,
   "id": "2882ada1",
   "metadata": {},
   "outputs": [
    {
     "name": "stdout",
     "output_type": "stream",
     "text": [
      "\n",
      "            playvital White Pure Series Anti-Slip Silicone Cover Skin for Playstation 5 Controller, Soft Rubber Case for PS5 Wireless Controller with White Thumb Grip Caps\n",
      "           \n",
      "\n",
      "               £8.68\n",
      "              \n",
      "\n",
      "             45 ratings\n",
      "            \n"
     ]
    }
   ],
   "source": [
    "# connecting to website\n",
    "URL = 'https://www.amazon.co.uk/dp/B08VJD4JLY/ref=syn_sd_onsite_desktop_242?psc=1&uh_it=fcf7ef60e6bba2b988cf280e1aef2dd8_CT&spLa=ZW5jcnlwdGVkUXVhbGlmaWVyPUEzT0pYUjlUWjVCWjRRJmVuY3J5cHRlZElkPUEwMzc1OTc5UFFBOUdVUTE4MEtGJmVuY3J5cHRlZEFkSWQ9QTAyNTM1NTIyRUkxSjBYN1JUSkczJndpZGdldE5hbWU9c2Rfb25zaXRlX2Rlc2t0b3AmYWN0aW9uPWNsaWNrUmVkaXJlY3QmZG9Ob3RMb2dDbGljaz10cnVl'\n",
    "\n",
    "# getting user-agent for my computer\n",
    "\n",
    "headers = {\"User-Agent\": \"Mozilla/5.0 (Windows NT 10.0; Win64; x64) AppleWebKit/537.36 (KHTML, like Gecko) Chrome/92.0.4515.159 Safari/537.36\"}\n",
    "\n",
    "page = requests.get(URL, headers=headers)\n",
    "\n",
    "soup1 = BeautifulSoup(page.content,\"html.parser\")\n",
    "\n",
    "soup2 = BeautifulSoup(soup1.prettify(),\"html.parser\")\n",
    "\n",
    "# used to catch errors if they occur\n",
    "\n",
    "# titleElement = soup2.find(id='productTitle')\n",
    "# if type(titleElement) == 'NoneType':\n",
    "#     print(page.text)\n",
    "    \n",
    "# title = titleElement.get_text()\n",
    "\n",
    "title = soup2.find(id='productTitle').get_text()\n",
    "\n",
    "price = soup2.find(id='priceblock_dealprice').get_text()\n",
    "\n",
    "no_of_ratings = soup2.find(id='acrCustomerReviewText').get_text()\n",
    "\n",
    "print(title)\n",
    "print(price)\n",
    "print(no_of_ratings)\n"
   ]
  },
  {
   "cell_type": "code",
   "execution_count": 3,
   "id": "0b2ef7c5",
   "metadata": {},
   "outputs": [
    {
     "name": "stdout",
     "output_type": "stream",
     "text": [
      "playvital White Pure Series Anti-Slip Silicone Cover Skin for Playstation 5 Controller, Soft Rubber Case for PS5 Wireless Controller with White Thumb Grip Caps\n",
      "8.68\n",
      "45 ratings\n"
     ]
    }
   ],
   "source": [
    "# clearing the formatting of the collected data so it can be put together easier later\n",
    "# also removing the currency type from the price\n",
    "\n",
    "price = price.strip()[1:]\n",
    "title = title.strip()\n",
    "no_of_ratings = no_of_ratings.strip()\n",
    "\n",
    "print(title)\n",
    "print(price)\n",
    "print(no_of_ratings)"
   ]
  },
  {
   "cell_type": "code",
   "execution_count": 4,
   "id": "98be6389",
   "metadata": {},
   "outputs": [
    {
     "name": "stdout",
     "output_type": "stream",
     "text": [
      "2021-09-03\n"
     ]
    }
   ],
   "source": [
    "# timestamp for collecting the data\n",
    "\n",
    "import datetime\n",
    "\n",
    "today = datetime.date.today()\n",
    "\n",
    "print(today)"
   ]
  },
  {
   "cell_type": "code",
   "execution_count": 5,
   "id": "e2a38d34",
   "metadata": {},
   "outputs": [],
   "source": [
    "# creating lists to be appended to in the csv file\n",
    "# creating the csv to store the data\n",
    "\n",
    "header = ['Title', 'Price', 'Rating_count', 'Date']\n",
    "data = [title, price, no_of_ratings, today]\n",
    "\n",
    "with open('amazon_webscraper_data.csv', 'w', newline='', encoding='UTF8') as f:\n",
    "    writer = csv.writer(f)\n",
    "    writer.writerow(header)\n",
    "    writer.writerow(data)\n"
   ]
  },
  {
   "cell_type": "code",
   "execution_count": 6,
   "id": "e95c0e11",
   "metadata": {},
   "outputs": [
    {
     "name": "stdout",
     "output_type": "stream",
     "text": [
      "                                               Title  Price Rating_count  \\\n",
      "0  playvital White Pure Series Anti-Slip Silicone...   8.68   45 ratings   \n",
      "\n",
      "         Date  \n",
      "0  2021-09-03  \n"
     ]
    }
   ],
   "source": [
    "df = pd.read_csv(r'C:\\Users\\joe_h\\Projects - Data Analysis\\Webscraping\\amazon_webscraper_data.csv')\n",
    "\n",
    "print(df)"
   ]
  },
  {
   "cell_type": "code",
   "execution_count": 7,
   "id": "7ba77934",
   "metadata": {},
   "outputs": [],
   "source": [
    "# appending data to the csv (using 'a+')\n",
    "\n",
    "with open('amazon_webscraper_data.csv', 'a+', newline='', encoding='UTF8') as f:\n",
    "    writer = csv.writer(f)\n",
    "    writer.writerow(data)"
   ]
  },
  {
   "cell_type": "code",
   "execution_count": 8,
   "id": "d1a07ba6",
   "metadata": {},
   "outputs": [],
   "source": [
    "def check_price():\n",
    "#     URL = 'titleElement'\n",
    "    URL = 'https://www.amazon.co.uk/dp/B08VJD4JLY/ref=syn_sd_onsite_desktop_242?psc=1&uh_it=fcf7ef60e6bba2b988cf280e1aef2dd8_CT&spLa=ZW5jcnlwdGVkUXVhbGlmaWVyPUEzT0pYUjlUWjVCWjRRJmVuY3J5cHRlZElkPUEwMzc1OTc5UFFBOUdVUTE4MEtGJmVuY3J5cHRlZEFkSWQ9QTAyNTM1NTIyRUkxSjBYN1JUSkczJndpZGdldE5hbWU9c2Rfb25zaXRlX2Rlc2t0b3AmYWN0aW9uPWNsaWNrUmVkaXJlY3QmZG9Ob3RMb2dDbGljaz10cnVl'\n",
    "    \n",
    "    headers = {\"User-Agent\": \"Mozilla/5.0 (Windows NT 10.0; Win64; x64) AppleWebKit/537.36 (KHTML, like Gecko) Chrome/92.0.4515.159 Safari/537.36\"}\n",
    "\n",
    "    page = requests.get(URL, headers=headers)\n",
    "\n",
    "    soup1 = BeautifulSoup(page.content,\"html.parser\")\n",
    "\n",
    "    soup2 = BeautifulSoup(soup1.prettify(), \"html.parser\")\n",
    "\n",
    "    time.sleep(3)\n",
    "\n",
    "    title = soup2.find(id='productTitle').get_text()\n",
    "\n",
    "    price = soup2.find(id='priceblock_dealprice').get_text()\n",
    "\n",
    "    no_of_ratings = soup2.find(id='acrCustomerReviewText').get_text()\n",
    "    \n",
    "    price = price.strip()[1:]\n",
    "    title = title.strip()\n",
    "    no_of_ratings = no_of_ratings.strip()\n",
    "    \n",
    "    import datetime\n",
    "    \n",
    "    today = datetime.date.today()\n",
    "    \n",
    "    import csv\n",
    "    \n",
    "    header = ['Title', 'Price', 'Rating_count', 'Date']\n",
    "    data = [title, price, no_of_ratings, today]\n",
    "    \n",
    "    with open('amazon_webscraper_data.csv', 'a+', newline='', encoding='UTF8') as f:\n",
    "        writer = csv.writer(f)\n",
    "        writer.writerow(data)"
   ]
  },
  {
   "cell_type": "code",
   "execution_count": null,
   "id": "d1ab1f1e",
   "metadata": {},
   "outputs": [],
   "source": [
    "# this will check the price of the item every day\n",
    "\n",
    "while(True):\n",
    "    check_price()\n",
    "    time.sleep(86400)"
   ]
  },
  {
   "cell_type": "code",
   "execution_count": null,
   "id": "fadd6b4b",
   "metadata": {},
   "outputs": [],
   "source": [
    "df = pd.read_csv(r'amazon_webscraper_data.csv')\n",
    "\n",
    "print(df)"
   ]
  },
  {
   "cell_type": "code",
   "execution_count": null,
   "id": "ea1cc3a4",
   "metadata": {},
   "outputs": [],
   "source": []
  }
 ],
 "metadata": {
  "kernelspec": {
   "display_name": "Python 3",
   "language": "python",
   "name": "python3"
  },
  "language_info": {
   "codemirror_mode": {
    "name": "ipython",
    "version": 3
   },
   "file_extension": ".py",
   "mimetype": "text/x-python",
   "name": "python",
   "nbconvert_exporter": "python",
   "pygments_lexer": "ipython3",
   "version": "3.8.8"
  }
 },
 "nbformat": 4,
 "nbformat_minor": 5
}
