{
 "cells": [
  {
   "cell_type": "code",
   "execution_count": 1,
   "metadata": {},
   "outputs": [],
   "source": [
    "import numpy as np\n",
    "import pandas as pd\n",
    "import statsmodels.api as sm\n",
    "import matplotlib.pyplot as plt\n",
    "import seaborn as sns\n",
    "sns.set()\n",
    "from sklearn.linear_model import LinearRegression\n",
    "\n",
    "# Pandas library is used for importing various file types e.g. csv, excel, json.\n",
    "# also used for manipulation and cleaning dataframes.\n",
    "\n",
    "# Numpy library has functions used for working with arrays and matrices\n",
    "# faster, clearer and better quality code using Numpy\n",
    "\n",
    "# Statsmodels is a module that provides classes and functions for the estimation of statistical models\n",
    "# as well as for conducting statistical tests and statistical data exploration\n",
    "\n",
    "# Matplotlib is a 2D plotting library for visualising data in Python\n",
    "\n",
    "# Seaborn is used for improving Matplotlib visualisations to make them more visually attractive.\n",
    "# It builds on top of MatPlotLib and works with Pandas for data structures\n",
    "\n",
    "# sklearn is a library used for machine learning and statistical modeling.\n",
    "# it includes many tools for classification, regression, clustering and dimensionality reduction"
   ]
  },
  {
   "cell_type": "code",
   "execution_count": 2,
   "metadata": {},
   "outputs": [],
   "source": [
    "data = pd.read_csv('Fish.csv')\n",
    "\n",
    "# importing the fish data csv"
   ]
  },
  {
   "cell_type": "code",
   "execution_count": 3,
   "metadata": {},
   "outputs": [
    {
     "data": {
      "text/html": [
       "<div>\n",
       "<style scoped>\n",
       "    .dataframe tbody tr th:only-of-type {\n",
       "        vertical-align: middle;\n",
       "    }\n",
       "\n",
       "    .dataframe tbody tr th {\n",
       "        vertical-align: top;\n",
       "    }\n",
       "\n",
       "    .dataframe thead th {\n",
       "        text-align: right;\n",
       "    }\n",
       "</style>\n",
       "<table border=\"1\" class=\"dataframe\">\n",
       "  <thead>\n",
       "    <tr style=\"text-align: right;\">\n",
       "      <th></th>\n",
       "      <th>Species</th>\n",
       "      <th>Weight</th>\n",
       "      <th>Length1</th>\n",
       "      <th>Length2</th>\n",
       "      <th>Length3</th>\n",
       "      <th>Height</th>\n",
       "      <th>Width</th>\n",
       "    </tr>\n",
       "  </thead>\n",
       "  <tbody>\n",
       "    <tr>\n",
       "      <th>0</th>\n",
       "      <td>Bream</td>\n",
       "      <td>242.0</td>\n",
       "      <td>23.2</td>\n",
       "      <td>25.4</td>\n",
       "      <td>30.0</td>\n",
       "      <td>11.5200</td>\n",
       "      <td>4.0200</td>\n",
       "    </tr>\n",
       "    <tr>\n",
       "      <th>1</th>\n",
       "      <td>Bream</td>\n",
       "      <td>290.0</td>\n",
       "      <td>24.0</td>\n",
       "      <td>26.3</td>\n",
       "      <td>31.2</td>\n",
       "      <td>12.4800</td>\n",
       "      <td>4.3056</td>\n",
       "    </tr>\n",
       "    <tr>\n",
       "      <th>2</th>\n",
       "      <td>Bream</td>\n",
       "      <td>340.0</td>\n",
       "      <td>23.9</td>\n",
       "      <td>26.5</td>\n",
       "      <td>31.1</td>\n",
       "      <td>12.3778</td>\n",
       "      <td>4.6961</td>\n",
       "    </tr>\n",
       "    <tr>\n",
       "      <th>3</th>\n",
       "      <td>Bream</td>\n",
       "      <td>363.0</td>\n",
       "      <td>26.3</td>\n",
       "      <td>29.0</td>\n",
       "      <td>33.5</td>\n",
       "      <td>12.7300</td>\n",
       "      <td>4.4555</td>\n",
       "    </tr>\n",
       "    <tr>\n",
       "      <th>4</th>\n",
       "      <td>Bream</td>\n",
       "      <td>430.0</td>\n",
       "      <td>26.5</td>\n",
       "      <td>29.0</td>\n",
       "      <td>34.0</td>\n",
       "      <td>12.4440</td>\n",
       "      <td>5.1340</td>\n",
       "    </tr>\n",
       "  </tbody>\n",
       "</table>\n",
       "</div>"
      ],
      "text/plain": [
       "  Species  Weight  Length1  Length2  Length3   Height   Width\n",
       "0   Bream   242.0     23.2     25.4     30.0  11.5200  4.0200\n",
       "1   Bream   290.0     24.0     26.3     31.2  12.4800  4.3056\n",
       "2   Bream   340.0     23.9     26.5     31.1  12.3778  4.6961\n",
       "3   Bream   363.0     26.3     29.0     33.5  12.7300  4.4555\n",
       "4   Bream   430.0     26.5     29.0     34.0  12.4440  5.1340"
      ]
     },
     "execution_count": 3,
     "metadata": {},
     "output_type": "execute_result"
    }
   ],
   "source": [
    "data.head()"
   ]
  },
  {
   "cell_type": "code",
   "execution_count": 4,
   "metadata": {},
   "outputs": [
    {
     "data": {
      "text/html": [
       "<div>\n",
       "<style scoped>\n",
       "    .dataframe tbody tr th:only-of-type {\n",
       "        vertical-align: middle;\n",
       "    }\n",
       "\n",
       "    .dataframe tbody tr th {\n",
       "        vertical-align: top;\n",
       "    }\n",
       "\n",
       "    .dataframe thead th {\n",
       "        text-align: right;\n",
       "    }\n",
       "</style>\n",
       "<table border=\"1\" class=\"dataframe\">\n",
       "  <thead>\n",
       "    <tr style=\"text-align: right;\">\n",
       "      <th></th>\n",
       "      <th>Weight</th>\n",
       "      <th>Length1</th>\n",
       "      <th>Length2</th>\n",
       "      <th>Length3</th>\n",
       "      <th>Height</th>\n",
       "      <th>Width</th>\n",
       "    </tr>\n",
       "  </thead>\n",
       "  <tbody>\n",
       "    <tr>\n",
       "      <th>count</th>\n",
       "      <td>159.000000</td>\n",
       "      <td>159.000000</td>\n",
       "      <td>159.000000</td>\n",
       "      <td>159.000000</td>\n",
       "      <td>159.000000</td>\n",
       "      <td>159.000000</td>\n",
       "    </tr>\n",
       "    <tr>\n",
       "      <th>mean</th>\n",
       "      <td>398.326415</td>\n",
       "      <td>26.247170</td>\n",
       "      <td>28.415723</td>\n",
       "      <td>31.227044</td>\n",
       "      <td>8.970994</td>\n",
       "      <td>4.417486</td>\n",
       "    </tr>\n",
       "    <tr>\n",
       "      <th>std</th>\n",
       "      <td>357.978317</td>\n",
       "      <td>9.996441</td>\n",
       "      <td>10.716328</td>\n",
       "      <td>11.610246</td>\n",
       "      <td>4.286208</td>\n",
       "      <td>1.685804</td>\n",
       "    </tr>\n",
       "    <tr>\n",
       "      <th>min</th>\n",
       "      <td>0.000000</td>\n",
       "      <td>7.500000</td>\n",
       "      <td>8.400000</td>\n",
       "      <td>8.800000</td>\n",
       "      <td>1.728400</td>\n",
       "      <td>1.047600</td>\n",
       "    </tr>\n",
       "    <tr>\n",
       "      <th>25%</th>\n",
       "      <td>120.000000</td>\n",
       "      <td>19.050000</td>\n",
       "      <td>21.000000</td>\n",
       "      <td>23.150000</td>\n",
       "      <td>5.944800</td>\n",
       "      <td>3.385650</td>\n",
       "    </tr>\n",
       "    <tr>\n",
       "      <th>50%</th>\n",
       "      <td>273.000000</td>\n",
       "      <td>25.200000</td>\n",
       "      <td>27.300000</td>\n",
       "      <td>29.400000</td>\n",
       "      <td>7.786000</td>\n",
       "      <td>4.248500</td>\n",
       "    </tr>\n",
       "    <tr>\n",
       "      <th>75%</th>\n",
       "      <td>650.000000</td>\n",
       "      <td>32.700000</td>\n",
       "      <td>35.500000</td>\n",
       "      <td>39.650000</td>\n",
       "      <td>12.365900</td>\n",
       "      <td>5.584500</td>\n",
       "    </tr>\n",
       "    <tr>\n",
       "      <th>max</th>\n",
       "      <td>1650.000000</td>\n",
       "      <td>59.000000</td>\n",
       "      <td>63.400000</td>\n",
       "      <td>68.000000</td>\n",
       "      <td>18.957000</td>\n",
       "      <td>8.142000</td>\n",
       "    </tr>\n",
       "  </tbody>\n",
       "</table>\n",
       "</div>"
      ],
      "text/plain": [
       "            Weight     Length1     Length2     Length3      Height       Width\n",
       "count   159.000000  159.000000  159.000000  159.000000  159.000000  159.000000\n",
       "mean    398.326415   26.247170   28.415723   31.227044    8.970994    4.417486\n",
       "std     357.978317    9.996441   10.716328   11.610246    4.286208    1.685804\n",
       "min       0.000000    7.500000    8.400000    8.800000    1.728400    1.047600\n",
       "25%     120.000000   19.050000   21.000000   23.150000    5.944800    3.385650\n",
       "50%     273.000000   25.200000   27.300000   29.400000    7.786000    4.248500\n",
       "75%     650.000000   32.700000   35.500000   39.650000   12.365900    5.584500\n",
       "max    1650.000000   59.000000   63.400000   68.000000   18.957000    8.142000"
      ]
     },
     "execution_count": 4,
     "metadata": {},
     "output_type": "execute_result"
    }
   ],
   "source": [
    "data.describe()"
   ]
  },
  {
   "cell_type": "markdown",
   "metadata": {},
   "source": [
    "## Creating the Multi-linear Regression"
   ]
  },
  {
   "cell_type": "code",
   "execution_count": 5,
   "metadata": {},
   "outputs": [],
   "source": [
    "species_dict = {'Bream':1, 'Roach':2, 'Whitefish':3, 'Parkki':4, 'Perch':5, 'Pike':6, 'Smelt':7}\n",
    "\n",
    "# applying each species to a dictionary to match each to a key index"
   ]
  },
  {
   "cell_type": "code",
   "execution_count": 6,
   "metadata": {},
   "outputs": [],
   "source": [
    "x = data[['Weight', 'Length1', 'Length2', 'Length3', 'Height', 'Width']]\n",
    "y = data['Species'].map(species_dict)\n",
    "\n",
    "# storing the independant variables (features) in a new varible (x)\n",
    "# storing the dictionary matched dependant variables (species) into a new variable (y)"
   ]
  },
  {
   "cell_type": "code",
   "execution_count": 7,
   "metadata": {},
   "outputs": [
    {
     "data": {
      "text/plain": [
       "Species    0\n",
       "Weight     0\n",
       "Length1    0\n",
       "Length2    0\n",
       "Length3    0\n",
       "Height     0\n",
       "Width      0\n",
       "dtype: int64"
      ]
     },
     "execution_count": 7,
     "metadata": {},
     "output_type": "execute_result"
    }
   ],
   "source": [
    "data.isnull().sum()\n",
    "\n",
    "# checking for missing values in dataset, luckily none found"
   ]
  },
  {
   "cell_type": "markdown",
   "metadata": {},
   "source": [
    "## PDF (Probability Distribution Functions)"
   ]
  },
  {
   "cell_type": "code",
   "execution_count": 8,
   "metadata": {},
   "outputs": [
    {
     "data": {
      "text/plain": [
       "<seaborn.axisgrid.FacetGrid at 0x1ff793af520>"
      ]
     },
     "execution_count": 8,
     "metadata": {},
     "output_type": "execute_result"
    },
    {
     "data": {
      "image/png": "[encoded data removed]",
      "text/plain": [
       "<Figure size 360x360 with 1 Axes>"
      ]
     },
     "metadata": {},
     "output_type": "display_data"
    }
   ],
   "source": [
    "sns.displot(y)\n",
    "\n",
    "# the PDF is an expression that defines a probability distribution (the likelihood of an outcome) of species type\n",
    "# for the features"
   ]
  },
  {
   "cell_type": "code",
   "execution_count": 9,
   "metadata": {},
   "outputs": [],
   "source": [
    "# species 1 and 5 are most common in the dataset"
   ]
  },
  {
   "cell_type": "markdown",
   "metadata": {},
   "source": [
    "## Comparisons of each species by feature"
   ]
  },
  {
   "cell_type": "code",
   "execution_count": 10,
   "metadata": {},
   "outputs": [
    {
     "data": {
      "image/png": "[encoded data removed]",
      "text/plain": [
       "<Figure size 432x288 with 1 Axes>"
      ]
     },
     "metadata": {},
     "output_type": "display_data"
    }
   ],
   "source": [
    "fig = plt.figure()\n",
    "ax = fig.add_axes([0,0,1,1])\n",
    "species = data['Species']\n",
    "weight = data['Weight']\n",
    "ax.bar(species, weight)\n",
    "plt.bar(species, weight, color=['red'])\n",
    "plt.ylabel('Weight', fontsize=16)\n",
    "plt.xlabel('Species', fontsize =16)\n",
    "plt.title('Weight of Species', fontsize= 20)\n",
    "plt.show()\n",
    "\n",
    "# we can see that Pike weigh the most\n",
    "# Bream, Whitefish and Perch are of similar weights, clearly weigh less than Pike but much heavier than the rest."
   ]
  },
  {
   "cell_type": "code",
   "execution_count": 11,
   "metadata": {},
   "outputs": [
    {
     "data": {
      "image/png": "[encoded data removed]",
      "text/plain": [
       "<Figure size 432x288 with 1 Axes>"
      ]
     },
     "metadata": {},
     "output_type": "display_data"
    }
   ],
   "source": [
    "fig = plt.figure()\n",
    "ax = fig.add_axes([0,0,1,1])\n",
    "species = data['Species']\n",
    "Length1 = data['Length1']\n",
    "ax.bar(species, Length1)\n",
    "plt.bar(species, Length1, color=['Green'])\n",
    "plt.ylabel('Length1', fontsize = 16)\n",
    "plt.xlabel('Species', fontsize = 16)\n",
    "plt.title('Length of Species', fontsize= 20)\n",
    "plt.show()\n",
    "\n",
    "# As all charts for length1, 2 and 3 are extremely similar, I have only included Length1\n",
    "# Pike are the longest, Perch, Whitefish and Bream are the next largest, followed by Roach, Parkki and finally Smelt"
   ]
  },
  {
   "cell_type": "code",
   "execution_count": 12,
   "metadata": {},
   "outputs": [
    {
     "data": {
      "image/png": "[encoded data removed]",
      "text/plain": [
       "<Figure size 432x288 with 1 Axes>"
      ]
     },
     "metadata": {},
     "output_type": "display_data"
    }
   ],
   "source": [
    "fig = plt.figure()\n",
    "ax = fig.add_axes([0,0,1,1])\n",
    "species = data['Species']\n",
    "Height = data['Height']\n",
    "ax.bar(species, Height)\n",
    "plt.bar(species, Height, color=['Black'])\n",
    "plt.ylabel('Height', fontsize =16)\n",
    "plt.xlabel('Species', fontsize =16)\n",
    "plt.title('Height of Species', fontsize= 20)\n",
    "plt.show()\n",
    "\n",
    "# we can see that Bream are the tallest by far, the rest are clustered in the middle without much varience\n",
    "# apart from Smelt which is much shorter"
   ]
  },
  {
   "cell_type": "code",
   "execution_count": 13,
   "metadata": {},
   "outputs": [
    {
     "data": {
      "image/png": "[encoded data removed]",
      "text/plain": [
       "<Figure size 432x288 with 1 Axes>"
      ]
     },
     "metadata": {},
     "output_type": "display_data"
    }
   ],
   "source": [
    "fig = plt.figure()\n",
    "ax = fig.add_axes([0,0,1,1])\n",
    "species = data['Species']\n",
    "Width = data['Width']\n",
    "ax.bar(species, Width)\n",
    "plt.bar(species, Width, color=['Orange'])\n",
    "plt.ylabel('Width', fontsize=16)\n",
    "plt.xlabel('Species', fontsize=16)\n",
    "plt.title('Width of Species', fontsize= 20)\n",
    "plt.show()\n",
    "\n",
    "# we can see that Perch is the widest, followed closely by Pike, which is in turn closely followed by Whitefish and Bream\n",
    "# then Roach, Parkki and Smelt"
   ]
  },
  {
   "cell_type": "markdown",
   "metadata": {},
   "source": [
    "## Standardising the variables so can be compared"
   ]
  },
  {
   "cell_type": "code",
   "execution_count": 14,
   "metadata": {},
   "outputs": [],
   "source": [
    "from sklearn.preprocessing import StandardScaler\n",
    "\n",
    "# this module imports a scaler to standardise the data, making the features comparable with each other"
   ]
  },
  {
   "cell_type": "code",
   "execution_count": 15,
   "metadata": {},
   "outputs": [],
   "source": [
    "scaler = StandardScaler()\n",
    "\n",
    "# applying the scaler to a new variable"
   ]
  },
  {
   "cell_type": "code",
   "execution_count": 16,
   "metadata": {},
   "outputs": [
    {
     "data": {
      "text/plain": [
       "StandardScaler()"
      ]
     },
     "execution_count": 16,
     "metadata": {},
     "output_type": "execute_result"
    }
   ],
   "source": [
    "scaler.fit(x)\n",
    "\n",
    "# fitting the scaler to the data"
   ]
  },
  {
   "cell_type": "code",
   "execution_count": 17,
   "metadata": {},
   "outputs": [],
   "source": [
    "x_scaled = scaler.transform(x)\n",
    "\n",
    "# transforming the scaled data so it can fit together"
   ]
  },
  {
   "cell_type": "code",
   "execution_count": 18,
   "metadata": {},
   "outputs": [
    {
     "data": {
      "text/plain": [
       "array([[-4.38072172e-01, -3.05788578e-01, -2.82303007e-01,\n",
       "        -1.06020232e-01,  5.96578670e-01, -2.36528948e-01],\n",
       "       [-3.03562184e-01, -2.25507242e-01, -1.98053663e-01,\n",
       "        -2.33668373e-03,  8.21260549e-01, -6.65789457e-02],\n",
       "       [-1.63447613e-01, -2.35542409e-01, -1.79331587e-01,\n",
       "        -1.09769794e-02,  7.97341291e-01,  1.65793169e-01],\n",
       "       [-9.89949100e-02,  5.30159764e-03,  5.46943678e-02,\n",
       "         1.96390116e-01,  8.79771455e-01,  2.26210031e-02],\n",
       "       [ 8.87586153e-02,  2.53719316e-02,  5.46943678e-02,\n",
       "         2.39591594e-01,  8.12834979e-01,  4.26371272e-01],\n",
       "       [ 1.44804444e-01,  5.54774324e-02,  1.20221635e-01,\n",
       "         3.00073664e-01,  1.08395111e+00,  3.03431249e-01],\n",
       "       [ 2.84919015e-01,  5.54774324e-02,  1.20221635e-01,\n",
       "         2.82793073e-01,  1.21901769e+00,  5.12357880e-01],\n",
       "       [-2.33330416e-02,  1.35758768e-01,  1.48304750e-01,\n",
       "         3.25994551e-01,  8.65728838e-01,  1.62163285e-01],\n",
       "       [ 1.44804444e-01,  1.35758768e-01,  1.48304750e-01,\n",
       "         3.34634847e-01,  1.17815367e+00,  2.53683979e-01],\n",
       "       [ 2.84919015e-01,  2.26075271e-01,  2.13832017e-01,\n",
       "         4.29678099e-01,  1.23004114e+00,  3.22473266e-01],\n",
       "       [ 2.14861729e-01,  2.16040104e-01,  2.41915132e-01,\n",
       "         4.29678099e-01,  1.23851352e+00,  4.08638393e-01],\n",
       "       [ 2.84919015e-01,  2.46145605e-01,  2.41915132e-01,\n",
       "         4.29678099e-01,  1.26393066e+00,  2.36308139e-01],\n",
       "       [ 2.84919015e-01,  2.86286273e-01,  2.88720322e-01,\n",
       "         4.46958690e-01,  1.12064915e+00, -2.94470124e-02],\n",
       "       [-1.63447613e-01,  3.26426940e-01,  3.35525513e-01,\n",
       "         5.24721351e-01,  1.15662166e+00,  3.89953414e-01],\n",
       "       [ 5.65148157e-01,  3.16391773e-01,  3.35525513e-01,\n",
       "         5.16081055e-01,  1.40037809e+00,  4.48269591e-01],\n",
       "       [ 5.65148157e-01,  3.16391773e-01,  3.35525513e-01,\n",
       "         5.16081055e-01,  1.51356159e+00,  6.91769385e-01],\n",
       "       [ 8.45377299e-01,  4.16743443e-01,  4.29135895e-01,\n",
       "         6.11124307e-01,  1.37837799e+00,  5.16463815e-01],\n",
       "       [ 8.45377299e-01,  4.16743443e-01,  4.29135895e-01,\n",
       "         6.28404899e-01,  1.39653978e+00,  4.64157774e-01],\n",
       "       [ 5.93171071e-01,  4.66919278e-01,  4.75941086e-01,\n",
       "         6.37045194e-01,  1.55920010e+00,  4.26252259e-01],\n",
       "       [ 7.05262728e-01,  4.76954445e-01,  4.75941086e-01,\n",
       "         6.45685490e-01,  1.28789673e+00,  7.79600689e-01],\n",
       "       [ 4.95090871e-01,  5.07059946e-01,  5.22746277e-01,\n",
       "         7.14807855e-01,  1.44112509e+00,  6.85521223e-01],\n",
       "       [ 8.03342928e-01,  5.17095113e-01,  5.22746277e-01,\n",
       "         6.88886968e-01,  1.64359623e+00,  5.67044173e-01],\n",
       "       [ 6.21193985e-01,  5.27130280e-01,  5.69551468e-01,\n",
       "         7.32088446e-01,  1.53338508e+00,  5.13309981e-01],\n",
       "       [ 7.89331471e-01,  5.57235780e-01,  6.16356659e-01,\n",
       "         8.09851107e-01,  1.52072332e+00,  1.01941109e+00],\n",
       "       [ 8.45377299e-01,  5.67270947e-01,  6.16356659e-01,\n",
       "         8.01210812e-01,  1.70138160e+00,  6.97124952e-01],\n",
       "       [ 9.15434585e-01,  5.57235780e-01,  6.16356659e-01,\n",
       "         8.35771994e-01,  1.72934981e+00,  9.73353212e-01],\n",
       "       [ 9.01423127e-01,  5.77306114e-01,  6.16356659e-01,\n",
       "         8.09851107e-01,  1.72977109e+00,  9.95251532e-01],\n",
       "       [ 8.84609379e-01,  6.47552283e-01,  7.09967041e-01,\n",
       "         8.87613768e-01,  1.76609466e+00,  8.53328999e-01],\n",
       "       [ 1.26572101e+00,  6.57587450e-01,  7.09967041e-01,\n",
       "         8.96254064e-01,  1.85329931e+00,  1.05975637e+00],\n",
       "       [ 1.68606473e+00,  7.27833619e-01,  8.03577423e-01,\n",
       "         9.82657020e-01,  2.33716110e+00,  1.30051887e+00],\n",
       "       [ 1.46188141e+00,  8.78361123e-01,  9.43992995e-01,\n",
       "         1.11226146e+00,  2.12181756e+00,  1.12396367e+00],\n",
       "       [ 1.55996161e+00,  8.78361123e-01,  9.43992995e-01,\n",
       "         1.10362116e+00,  2.13284102e+00,  1.11545426e+00],\n",
       "       [ 1.47589287e+00,  9.98783127e-01,  1.03760338e+00,\n",
       "         1.21594500e+00,  2.28969706e+00,  1.38781462e+00],\n",
       "       [ 1.61600744e+00,  1.11920513e+00,  1.17801895e+00,\n",
       "         1.26778678e+00,  2.26189267e+00,  1.38638646e+00],\n",
       "       [ 1.54595015e+00,  1.17941613e+00,  1.17801895e+00,\n",
       "         1.31962855e+00,  2.02506393e+00,  1.16216671e+00],\n",
       "       [-1.00413504e+00, -1.33941077e+00, -1.34010032e+00,\n",
       "        -1.29838103e+00, -1.12897816e+00, -1.27907938e+00],\n",
       "       [-9.22868588e-01, -9.78144764e-01, -9.56297756e-01,\n",
       "        -9.44128909e-01, -8.59570547e-01, -9.49592982e-01],\n",
       "       [-8.97647965e-01, -8.77793095e-01, -9.00131527e-01,\n",
       "        -8.66366249e-01, -7.94670250e-01, -9.00381269e-01],\n",
       "       [-8.72427342e-01, -8.07546926e-01, -8.06521145e-01,\n",
       "        -7.79963292e-01, -7.85074461e-01, -7.39595237e-01],\n",
       "       [-7.79951725e-01, -7.67406258e-01, -7.87799069e-01,\n",
       "        -7.79963292e-01, -6.44788713e-01, -5.01808049e-01],\n",
       "       [-1.11622670e+00, -7.27265590e-01, -7.40993878e-01,\n",
       "        -7.28121518e-01, -5.84124605e-01, -6.34269080e-01],\n",
       "       [-8.07974640e-01, -7.17230423e-01, -7.12910764e-01,\n",
       "        -7.02200631e-01, -6.56093020e-01, -6.08026800e-01],\n",
       "       [-7.79951725e-01, -6.87124923e-01, -6.94188687e-01,\n",
       "        -6.50358857e-01, -6.68520736e-01, -6.68366192e-01],\n",
       "       [-6.95882983e-01, -5.86773253e-01, -6.00578305e-01,\n",
       "        -5.63955901e-01, -7.41097664e-01, -3.94577690e-01],\n",
       "       [-7.09894440e-01, -5.76738086e-01, -6.00578305e-01,\n",
       "        -5.98517084e-01, -5.46981882e-01, -5.17517713e-01],\n",
       "       [-6.67860069e-01, -5.76738086e-01, -5.53773114e-01,\n",
       "        -5.12114127e-01, -4.53481454e-01, -3.55363036e-01],\n",
       "       [-7.23905897e-01, -5.26562251e-01, -5.53773114e-01,\n",
       "        -5.38035014e-01, -5.66618142e-01, -6.50097757e-01],\n",
       "       [-6.67860069e-01, -5.16527084e-01, -5.53773114e-01,\n",
       "        -5.38035014e-01, -6.01724686e-01, -3.67442816e-01],\n",
       "       [-6.42639446e-01, -4.26210582e-01, -4.13357542e-01,\n",
       "        -3.47948510e-01, -3.36225599e-01, -3.46496597e-01],\n",
       "       [-6.65057777e-01, -4.26210582e-01, -4.69523771e-01,\n",
       "        -3.91149988e-01, -4.81122006e-01, -4.67889456e-01],\n",
       "       [-5.55768412e-01, -4.16175415e-01, -4.60162732e-01,\n",
       "        -3.82509692e-01, -3.68430001e-01, -1.72738191e-01],\n",
       "       [-6.11814240e-01, -2.65647910e-01, -3.01025083e-01,\n",
       "        -2.87466440e-01, -4.41030334e-01, -3.04366134e-01],\n",
       "       [-3.03562184e-01, -2.25507242e-01, -2.26136778e-01,\n",
       "        -1.75142597e-01, -2.20454374e-02,  4.71971064e-02],\n",
       "       [-3.54003429e-01, -1.25155573e-01, -1.32526396e-01,\n",
       "        -5.41784576e-02, -9.43181086e-02,  2.11910554e-01],\n",
       "       [-2.33330416e-02,  3.26426940e-01,  3.07442399e-01,\n",
       "         3.25994551e-01,  1.20299895e-01,  5.57880202e-01],\n",
       "       [-3.59608012e-01, -2.65647910e-01, -2.26136778e-01,\n",
       "        -2.18344075e-01, -1.38224692e-01, -1.01092602e-01],\n",
       "       [-3.59608012e-01, -2.15472075e-01, -1.79331587e-01,\n",
       "        -1.66502301e-01, -1.93224944e-01, -1.00557045e-01],\n",
       "       [-2.58725521e-01, -6.49445711e-02, -3.89160141e-02,\n",
       "        -3.68978663e-02, -4.51689475e-02,  1.57164755e-01],\n",
       "       [ 3.97010672e-01,  2.26075271e-01,  2.41915132e-01,\n",
       "         2.39591594e-01,  4.14960818e-01,  1.27612128e+00],\n",
       "       [ 1.12560644e+00,  7.47903953e-01,  7.47411194e-01,\n",
       "         7.23448151e-01,  6.53029992e-01,  1.28302402e+00],\n",
       "       [ 1.68606473e+00,  1.10916996e+00,  1.08440857e+00,\n",
       "         1.06041968e+00,  7.91771053e-01,  1.25410395e+00],\n",
       "       [-9.62100668e-01, -1.27919977e+00, -1.28393409e+00,\n",
       "        -1.27246014e+00, -4.96990164e-01, -1.24426820e+00],\n",
       "       [-9.48089211e-01, -1.19891844e+00, -1.20904579e+00,\n",
       "        -1.19469748e+00, -5.60252156e-01, -1.25158747e+00],\n",
       "       [-8.64020468e-01, -9.98215098e-01, -1.00310295e+00,\n",
       "        -9.87330388e-01, -3.66464035e-01, -1.03807885e+00],\n",
       "       [-7.79951725e-01, -8.77793095e-01, -8.81409451e-01,\n",
       "        -8.57725953e-01, -1.35462978e-01, -8.92228905e-01],\n",
       "       [-6.95882983e-01, -7.87476592e-01, -7.87799069e-01,\n",
       "        -7.62682701e-01, -1.83007394e-02, -6.69258786e-01],\n",
       "       [-7.23905897e-01, -7.27265590e-01, -7.22271802e-01,\n",
       "        -6.93560336e-01, -1.01433035e-01, -6.68306686e-01],\n",
       "       [-6.39837154e-01, -7.27265590e-01, -7.22271802e-01,\n",
       "        -6.93560336e-01,  9.94700123e-02, -5.99279374e-01],\n",
       "       [-7.09894440e-01, -6.46984255e-01, -6.47383496e-01,\n",
       "        -6.15797675e-01,  1.79138462e-01, -7.50008840e-01],\n",
       "       [-5.55768412e-01, -5.06491917e-01, -5.06967923e-01,\n",
       "        -4.68912649e-01,  3.21764647e-01, -4.48609413e-01],\n",
       "       [-3.51201138e-01, -3.25858912e-01, -3.19747160e-01,\n",
       "        -2.78826145e-01,  4.95471824e-01, -1.62741132e-01],\n",
       "       [-2.75539270e-01, -2.25507242e-01, -2.26136778e-01,\n",
       "        -1.92423188e-01,  5.61004039e-01, -1.09185459e-01],\n",
       "       [-1.09969318e+00, -1.88130979e+00, -1.87367950e+00,\n",
       "        -1.93776291e+00, -1.60530375e+00, -1.79083359e+00],\n",
       "       [-1.02655337e+00, -1.37955144e+00, -1.37754447e+00,\n",
       "        -1.42798547e+00, -1.27389797e+00, -1.43903233e+00],\n",
       "       [-1.00413504e+00, -1.24909427e+00, -1.25585098e+00,\n",
       "        -1.31566162e+00, -1.20462106e+00, -1.18148905e+00],\n",
       "       [-9.71908688e-01, -1.12867227e+00, -1.14351852e+00,\n",
       "        -1.21197807e+00, -1.02478194e+00, -1.06271446e+00],\n",
       "       [-9.20066296e-01, -1.05842610e+00, -1.03118606e+00,\n",
       "        -1.09965423e+00, -1.02581173e+00, -8.78304430e-01],\n",
       "       [-8.35997554e-01, -1.00825027e+00, -9.75019833e-01,\n",
       "        -1.03917216e+00, -8.77334458e-01, -6.52120971e-01],\n",
       "       [-8.97647965e-01, -9.48039264e-01, -9.09492565e-01,\n",
       "        -1.02189157e+00, -8.82764270e-01, -7.70062464e-01],\n",
       "       [-8.92043382e-01, -9.07898596e-01, -8.81409451e-01,\n",
       "        -9.52769205e-01, -7.80580824e-01, -8.13621079e-01],\n",
       "       [-8.78031925e-01, -8.47687594e-01, -8.25243222e-01,\n",
       "        -9.00927431e-01, -8.97181357e-01, -8.21594923e-01],\n",
       "       [-8.78031925e-01, -8.07546926e-01, -7.87799069e-01,\n",
       "        -8.83646840e-01, -9.10194183e-01, -9.79167615e-01],\n",
       "       [-8.07974640e-01, -7.27265590e-01, -6.94188687e-01,\n",
       "        -7.54042405e-01, -7.67310550e-01, -5.13233259e-01],\n",
       "       [-7.93963182e-01, -7.27265590e-01, -6.94188687e-01,\n",
       "        -7.54042405e-01, -7.14650735e-01, -6.60511360e-01],\n",
       "       [-7.65940268e-01, -7.27265590e-01, -6.94188687e-01,\n",
       "        -7.54042405e-01, -7.67310550e-01, -4.46288668e-01],\n",
       "       [-7.51928811e-01, -6.97160090e-01, -6.66105573e-01,\n",
       "        -7.28121518e-01, -6.05469384e-01, -5.25729583e-01],\n",
       "       [-7.79951725e-01, -6.26913921e-01, -6.00578305e-01,\n",
       "        -6.67639449e-01, -6.69597337e-01, -6.01005056e-01],\n",
       "       [-7.79951725e-01, -6.26913921e-01, -6.00578305e-01,\n",
       "        -6.67639449e-01, -7.79597840e-01, -5.31085150e-01],\n",
       "       [-7.51928811e-01, -6.26913921e-01, -6.00578305e-01,\n",
       "        -6.67639449e-01, -6.69597337e-01, -5.31085150e-01],\n",
       "       [-7.37917354e-01, -6.26913921e-01, -6.00578305e-01,\n",
       "        -6.67639449e-01, -7.24597589e-01, -5.31085150e-01],\n",
       "       [-8.07974640e-01, -6.26913921e-01, -6.00578305e-01,\n",
       "        -6.67639449e-01, -8.07097966e-01, -2.51405524e-01],\n",
       "       [-7.51928811e-01, -5.76738086e-01, -5.53773114e-01,\n",
       "        -6.24437970e-01, -7.29044417e-01, -4.72173910e-01],\n",
       "       [-6.95882983e-01, -5.76738086e-01, -5.53773114e-01,\n",
       "        -6.24437970e-01, -5.09979585e-01, -4.72173910e-01],\n",
       "       [-7.09894440e-01, -5.56667752e-01, -5.35051038e-01,\n",
       "        -6.07157379e-01, -7.06295377e-01, -4.68603531e-01],\n",
       "       [-6.95882983e-01, -5.26562251e-01, -5.06967923e-01,\n",
       "        -5.81236492e-01, -8.78247228e-01, -4.70983784e-01],\n",
       "       [-6.39837154e-01, -4.76386416e-01, -4.60162732e-01,\n",
       "        -5.38035014e-01, -6.30980139e-01, -4.12072543e-01],\n",
       "       [-4.85711126e-01, -4.26210582e-01, -4.13357542e-01,\n",
       "        -4.94833536e-01, -3.92723729e-01, -4.13262669e-01],\n",
       "       [-7.09894440e-01, -4.26210582e-01, -4.13357542e-01,\n",
       "        -4.94833536e-01, -6.07575777e-01, -3.52566240e-01],\n",
       "       [-5.89395909e-01, -3.65999580e-01, -3.57191312e-01,\n",
       "        -4.34351466e-01, -5.23694542e-01, -1.49768758e-01],\n",
       "       [-6.11814240e-01, -3.25858912e-01, -3.19747160e-01,\n",
       "        -4.08430579e-01, -5.92479963e-01, -4.36767659e-01],\n",
       "       [-5.64175286e-01, -2.75683077e-01, -2.63580931e-01,\n",
       "        -3.65229101e-01, -5.64043662e-01, -1.06210144e-01],\n",
       "       [-5.05327166e-01, -1.25155573e-01, -1.79331587e-01,\n",
       "        -2.78826145e-01, -4.21979182e-01, -1.62741132e-01],\n",
       "       [-2.75539270e-01, -1.05085239e-01, -1.04443281e-01,\n",
       "        -2.18344075e-01, -1.51658797e-01,  4.28334980e-01],\n",
       "       [-3.87630926e-01, -8.50149050e-02, -8.57212050e-02,\n",
       "        -2.01063484e-01, -4.22166417e-01, -4.90840925e-02],\n",
       "       [-3.73619469e-01, -8.50149050e-02, -8.57212050e-02,\n",
       "        -2.01063484e-01, -4.49221860e-01, -4.90840925e-02],\n",
       "       [-4.15653841e-01, -8.50149050e-02, -8.57212050e-02,\n",
       "        -2.01063484e-01, -3.95110974e-01,  8.84944810e-02],\n",
       "       [-4.15653841e-01, -3.48390702e-02, -3.89160141e-02,\n",
       "        -1.57862005e-01, -2.69289122e-01, -1.26918337e-01],\n",
       "       [-2.75539270e-01,  6.55125994e-02,  2.66112532e-02,\n",
       "        -9.73799359e-02, -3.24336182e-01,  1.29672843e-01],\n",
       "       [-2.19493441e-01,  1.55829102e-01,  1.48304750e-01,\n",
       "         3.22244989e-02, -3.17221256e-01,  2.10720428e-01],\n",
       "       [ 3.24151095e-01,  4.26778610e-01,  4.10413819e-01,\n",
       "         2.39591594e-01,  2.47853670e-01,  9.52406994e-01],\n",
       "       [ 4.41847334e-01,  5.77306114e-01,  5.69551468e-01,\n",
       "         4.55598986e-01,  3.00864551e-01,  1.17228278e+00],\n",
       "       [ 1.23769810e+00,  6.27481949e-01,  6.16356659e-01,\n",
       "         5.24721351e-01,  5.89182892e-01,  2.01025055e+00],\n",
       "       [ 8.03342928e-01,  7.78009454e-01,  7.56772232e-01,\n",
       "         6.71606377e-01,  4.47024794e-01,  1.45583032e+00],\n",
       "       [ 8.45377299e-01,  7.78009454e-01,  7.09967041e-01,\n",
       "         6.11124307e-01,  3.83388333e-01,  1.38251855e+00],\n",
       "       [ 8.45377299e-01,  8.28185288e-01,  8.03577423e-01,\n",
       "         7.06167559e-01,  4.36258788e-01,  1.09914954e+00],\n",
       "       [ 8.17354385e-01,  8.38220455e-01,  8.03577423e-01,\n",
       "         6.97527264e-01,  3.74635101e-01,  1.15984597e+00],\n",
       "       [ 1.40583558e+00,  1.02888863e+00,  9.90798186e-01,\n",
       "         8.78973472e-01,  5.06846345e-01,  1.83036299e+00],\n",
       "       [ 7.05262728e-01,  1.02888863e+00,  9.90798186e-01,\n",
       "         8.78973472e-01,  5.06846345e-01,  9.43481048e-01],\n",
       "       [ 1.18165227e+00,  1.03892379e+00,  9.90798186e-01,\n",
       "         8.70333177e-01,  8.09862625e-01,  1.74586404e+00],\n",
       "       [ 1.26572101e+00,  1.06902930e+00,  1.08440857e+00,\n",
       "         9.56736133e-01,  6.92208895e-01,  1.60007360e+00],\n",
       "       [ 1.40583558e+00,  1.07906446e+00,  1.08440857e+00,\n",
       "         9.74016725e-01,  6.45727831e-01,  1.67064808e+00],\n",
       "       [ 1.72809910e+00,  1.07906446e+00,  1.08440857e+00,\n",
       "         9.65376429e-01,  7.98043422e-01,  1.81191604e+00],\n",
       "       [ 1.18165227e+00,  1.08909963e+00,  1.08440857e+00,\n",
       "         9.74016725e-01,  5.06471875e-01,  1.31658557e+00],\n",
       "       [ 1.96629387e+00,  1.27976780e+00,  1.27162933e+00,\n",
       "         1.15546293e+00,  8.96201318e-01,  1.45844860e+00],\n",
       "       [ 1.68606473e+00,  1.36004914e+00,  1.36523971e+00,\n",
       "         1.20730471e+00,  6.93191878e-01,  1.70171037e+00],\n",
       "       [ 1.96629387e+00,  1.39015464e+00,  1.36523971e+00,\n",
       "         1.23322559e+00,  8.28866967e-01,  1.78460265e+00],\n",
       "       [ 1.68606473e+00,  1.40018981e+00,  1.41204490e+00,\n",
       "         1.27642707e+00,  8.50281959e-01,  2.21632088e+00],\n",
       "       [ 1.68606473e+00,  1.49050631e+00,  1.45885010e+00,\n",
       "         1.32826885e+00,  8.23320133e-01,  1.89129745e+00],\n",
       "       [-5.55768412e-01,  3.76602775e-01,  3.63608628e-01,\n",
       "         3.08713960e-01, -7.96448981e-01, -6.19987567e-01],\n",
       "       [-2.75539270e-01,  5.47200613e-01,  5.22746277e-01,\n",
       "         5.67922829e-01, -7.63729683e-01, -1.54410249e-01],\n",
       "       [-2.75539270e-01,  6.47552283e-01,  6.16356659e-01,\n",
       "         6.54325786e-01, -7.10227310e-01, -1.96879786e-02],\n",
       "       [-2.75539270e-01,  8.58290789e-01,  8.31660537e-01,\n",
       "         7.40728742e-01, -6.27843954e-01, -2.36647961e-01],\n",
       "       [ 8.87586153e-02,  9.28536958e-01,  8.97187805e-01,\n",
       "         8.01210812e-01, -3.93425860e-01,  9.46236302e-02],\n",
       "       [-1.49436156e-01,  9.78712793e-01,  9.43992995e-01,\n",
       "         8.44412290e-01, -6.02660860e-01, -2.62116659e-01],\n",
       "       [ 1.61618192e-01,  1.38011947e+00,  1.31843452e+00,\n",
       "         1.23322559e+00, -3.95766297e-01, -5.65223804e-02],\n",
       "       [ 3.12941929e-01,  1.38011947e+00,  1.31843452e+00,\n",
       "         1.23322559e+00, -5.02256146e-01,  2.47037237e-02],\n",
       "       [ 3.97010672e-01,  1.39015464e+00,  1.36523971e+00,\n",
       "         1.25914648e+00, -2.77340223e-01,  4.23752994e-01],\n",
       "       [ 2.84919015e-01,  1.58082281e+00,  1.55246048e+00,\n",
       "         1.44923299e+00, -4.70660256e-01,  2.84746270e-01],\n",
       "       [ 4.72672540e-01,  1.70124481e+00,  1.64607086e+00,\n",
       "         1.50971505e+00, -2.75935961e-01,  2.69274631e-01],\n",
       "       [ 1.04153770e+00,  1.86180749e+00,  1.83329162e+00,\n",
       "         1.72572245e+00, -3.02148847e-01,  5.70376526e-01],\n",
       "       [ 1.54595015e+00,  2.21303833e+00,  2.17965004e+00,\n",
       "         2.06269398e+00, -1.04836824e-02,  1.04357065e+00],\n",
       "       [ 2.38663758e+00,  2.58433951e+00,  2.58217468e+00,\n",
       "         2.46014758e+00,  4.01456501e-01,  1.52777344e+00],\n",
       "       [ 3.36743958e+00,  2.98574618e+00,  2.95661621e+00,\n",
       "         2.83168029e+00,  1.47214912e-01,  1.02738494e+00],\n",
       "       [ 3.22732501e+00,  2.98574618e+00,  2.95661621e+00,\n",
       "         2.83168029e+00,  1.47214912e-01,  1.02738494e+00],\n",
       "       [ 3.50755415e+00,  3.28680119e+00,  3.27489150e+00,\n",
       "         3.17729212e+00,  4.30875784e-01,  1.82238915e+00],\n",
       "       [-1.09745134e+00, -1.70067679e+00, -1.74262496e+00,\n",
       "        -1.76495700e+00, -1.69264883e+00, -2.00529431e+00],\n",
       "       [-1.09520951e+00, -1.63043062e+00, -1.67709770e+00,\n",
       "        -1.69583463e+00, -1.63806985e+00, -1.93840923e+00],\n",
       "       [-1.09661066e+00, -1.62039545e+00, -1.66773666e+00,\n",
       "        -1.69583463e+00, -1.69508288e+00, -1.94531196e+00],\n",
       "       [-1.08904447e+00, -1.59028995e+00, -1.63029251e+00,\n",
       "        -1.66127345e+00, -1.58564408e+00, -1.80749536e+00],\n",
       "       [-1.08876424e+00, -1.56018445e+00, -1.61157043e+00,\n",
       "        -1.62671227e+00, -1.61204420e+00, -1.86866784e+00],\n",
       "       [-1.09184676e+00, -1.55014928e+00, -1.60220939e+00,\n",
       "        -1.60943167e+00, -1.63661878e+00, -1.86390733e+00],\n",
       "       [-1.08820378e+00, -1.49997345e+00, -1.55540420e+00,\n",
       "        -1.56623020e+00, -1.58145470e+00, -1.86474042e+00],\n",
       "       [-1.08848401e+00, -1.49997345e+00, -1.55540420e+00,\n",
       "        -1.56623020e+00, -1.58145470e+00, -1.93489835e+00],\n",
       "       [-1.08876424e+00, -1.48993828e+00, -1.53668212e+00,\n",
       "        -1.55758990e+00, -1.58367812e+00, -1.94531196e+00],\n",
       "       [-1.08203874e+00, -1.47990311e+00, -1.51796005e+00,\n",
       "        -1.54030931e+00, -1.61035909e+00, -1.79940250e+00],\n",
       "       [-1.07867599e+00, -1.45983278e+00, -1.49923797e+00,\n",
       "        -1.53166901e+00, -1.53087787e+00, -1.87354735e+00],\n",
       "       [-1.08203874e+00, -1.41969211e+00, -1.44307174e+00,\n",
       "        -1.50574813e+00, -1.56668655e+00, -1.88140219e+00],\n",
       "       [-1.06102155e+00, -1.30930527e+00, -1.32137825e+00,\n",
       "        -1.38478399e+00, -1.42724336e+00, -1.39856804e+00],\n",
       "       [-1.06046110e+00, -1.24909427e+00, -1.25585098e+00,\n",
       "        -1.29838103e+00, -1.41334117e+00, -1.51043989e+00]])"
      ]
     },
     "execution_count": 18,
     "metadata": {},
     "output_type": "execute_result"
    }
   ],
   "source": [
    "x_scaled"
   ]
  },
  {
   "cell_type": "code",
   "execution_count": 19,
   "metadata": {},
   "outputs": [
    {
     "data": {
      "text/html": [
       "<div>\n",
       "<style scoped>\n",
       "    .dataframe tbody tr th:only-of-type {\n",
       "        vertical-align: middle;\n",
       "    }\n",
       "\n",
       "    .dataframe tbody tr th {\n",
       "        vertical-align: top;\n",
       "    }\n",
       "\n",
       "    .dataframe thead th {\n",
       "        text-align: right;\n",
       "    }\n",
       "</style>\n",
       "<table border=\"1\" class=\"dataframe\">\n",
       "  <thead>\n",
       "    <tr style=\"text-align: right;\">\n",
       "      <th></th>\n",
       "      <th>Species</th>\n",
       "      <th>Weight</th>\n",
       "      <th>Length1</th>\n",
       "      <th>Length2</th>\n",
       "      <th>Length3</th>\n",
       "      <th>Height</th>\n",
       "      <th>Width</th>\n",
       "    </tr>\n",
       "  </thead>\n",
       "  <tbody>\n",
       "    <tr>\n",
       "      <th>0</th>\n",
       "      <td>Bream</td>\n",
       "      <td>242.0</td>\n",
       "      <td>23.2</td>\n",
       "      <td>25.4</td>\n",
       "      <td>30.0</td>\n",
       "      <td>11.5200</td>\n",
       "      <td>4.0200</td>\n",
       "    </tr>\n",
       "    <tr>\n",
       "      <th>1</th>\n",
       "      <td>Bream</td>\n",
       "      <td>290.0</td>\n",
       "      <td>24.0</td>\n",
       "      <td>26.3</td>\n",
       "      <td>31.2</td>\n",
       "      <td>12.4800</td>\n",
       "      <td>4.3056</td>\n",
       "    </tr>\n",
       "    <tr>\n",
       "      <th>2</th>\n",
       "      <td>Bream</td>\n",
       "      <td>340.0</td>\n",
       "      <td>23.9</td>\n",
       "      <td>26.5</td>\n",
       "      <td>31.1</td>\n",
       "      <td>12.3778</td>\n",
       "      <td>4.6961</td>\n",
       "    </tr>\n",
       "    <tr>\n",
       "      <th>3</th>\n",
       "      <td>Bream</td>\n",
       "      <td>363.0</td>\n",
       "      <td>26.3</td>\n",
       "      <td>29.0</td>\n",
       "      <td>33.5</td>\n",
       "      <td>12.7300</td>\n",
       "      <td>4.4555</td>\n",
       "    </tr>\n",
       "    <tr>\n",
       "      <th>4</th>\n",
       "      <td>Bream</td>\n",
       "      <td>430.0</td>\n",
       "      <td>26.5</td>\n",
       "      <td>29.0</td>\n",
       "      <td>34.0</td>\n",
       "      <td>12.4440</td>\n",
       "      <td>5.1340</td>\n",
       "    </tr>\n",
       "  </tbody>\n",
       "</table>\n",
       "</div>"
      ],
      "text/plain": [
       "  Species  Weight  Length1  Length2  Length3   Height   Width\n",
       "0   Bream   242.0     23.2     25.4     30.0  11.5200  4.0200\n",
       "1   Bream   290.0     24.0     26.3     31.2  12.4800  4.3056\n",
       "2   Bream   340.0     23.9     26.5     31.1  12.3778  4.6961\n",
       "3   Bream   363.0     26.3     29.0     33.5  12.7300  4.4555\n",
       "4   Bream   430.0     26.5     29.0     34.0  12.4440  5.1340"
      ]
     },
     "execution_count": 19,
     "metadata": {},
     "output_type": "execute_result"
    }
   ],
   "source": [
    "data.head()"
   ]
  },
  {
   "cell_type": "markdown",
   "metadata": {},
   "source": [
    "## Applying the Linear Regression model to the Data"
   ]
  },
  {
   "cell_type": "code",
   "execution_count": 20,
   "metadata": {},
   "outputs": [
    {
     "data": {
      "text/plain": [
       "LinearRegression()"
      ]
     },
     "execution_count": 20,
     "metadata": {},
     "output_type": "execute_result"
    }
   ],
   "source": [
    "reg = LinearRegression()\n",
    "reg.fit(x_scaled,y)\n",
    "\n",
    "# storing the regression model in a new variable (reg) and fitting it to the scaled data for each species"
   ]
  },
  {
   "cell_type": "code",
   "execution_count": 21,
   "metadata": {},
   "outputs": [
    {
     "data": {
      "text/plain": [
       "array([  0.85476284,   5.614399  ,   8.82652719, -14.37576717,\n",
       "        -0.03693506,  -1.31416116])"
      ]
     },
     "execution_count": 21,
     "metadata": {},
     "output_type": "execute_result"
    }
   ],
   "source": [
    "reg.coef_\n",
    "\n",
    "# in output below, the numbers are the coefficients of the 6 features\n",
    "# this is the constant that is multiplied by the variable"
   ]
  },
  {
   "cell_type": "code",
   "execution_count": 22,
   "metadata": {},
   "outputs": [
    {
     "data": {
      "text/plain": [
       "3.8805031446540883"
      ]
     },
     "execution_count": 22,
     "metadata": {},
     "output_type": "execute_result"
    }
   ],
   "source": [
    "reg.intercept_\n",
    "\n",
    "# the intercept is the point where the function crosses the y axis (the predicted value for y when x is 0)"
   ]
  },
  {
   "cell_type": "code",
   "execution_count": 23,
   "metadata": {},
   "outputs": [
    {
     "data": {
      "text/plain": [
       "0.8352561425737633"
      ]
     },
     "execution_count": 23,
     "metadata": {},
     "output_type": "execute_result"
    }
   ],
   "source": [
    "reg.score(x_scaled,y)\n",
    "\n",
    "# shows the model's accuracy in predicting species from the features (83%)\n",
    "#.score() returns the R-Squared of a linear regression (simple or multiple)\n",
    "\n",
    "# however, the Adjusted R-Squared is more appropriate for multiple linear regerssion\n",
    "# as it adjusts for multiple variables"
   ]
  },
  {
   "cell_type": "code",
   "execution_count": 24,
   "metadata": {},
   "outputs": [
    {
     "data": {
      "text/plain": [
       "(159, 6)"
      ]
     },
     "execution_count": 24,
     "metadata": {},
     "output_type": "execute_result"
    }
   ],
   "source": [
    "x_scaled.shape"
   ]
  },
  {
   "cell_type": "markdown",
   "metadata": {},
   "source": [
    "### Formula for Adjusted R^2\n",
    "$R^2_{adj.} = 1 - (1-R^2)*\\frac{n-1}{n-p-1}$\n",
    "###### n = 84 (number of observations) and p = 2 (the number of predictors)\n",
    "\n",
    "##### R-Squared is the universal measure for evaluating how well linear regressions perform"
   ]
  },
  {
   "cell_type": "markdown",
   "metadata": {},
   "source": [
    "### Calculating the R-Squared"
   ]
  },
  {
   "cell_type": "code",
   "execution_count": 25,
   "metadata": {},
   "outputs": [
    {
     "data": {
      "text/plain": [
       "0.8287530955700961"
      ]
     },
     "execution_count": 25,
     "metadata": {},
     "output_type": "execute_result"
    }
   ],
   "source": [
    "r2 = reg.score(x_scaled,y)\n",
    "# variable storing the R-Squared value\n",
    "\n",
    "n = x.shape[0]\n",
    "# the number of observations\n",
    "\n",
    "p = x.shape[1]\n",
    "# the number of predictors (6)\n",
    "\n",
    "adjusted_r2 = 1-(1-r2)*(n-1)/(n-p-1)\n",
    "adjusted_r2\n",
    "# plugging in the variables into the R-Squared formula"
   ]
  },
  {
   "cell_type": "markdown",
   "metadata": {},
   "source": [
    "#### We can conclude that the Adjusted R Squared (82.8%) is significantly lower than R Squared (83.5%)\n",
    "#### Therefore one or more of the predictors has little to no explanatory power\n",
    "#### To find out which predictor is the least important we use feature selection:"
   ]
  },
  {
   "cell_type": "markdown",
   "metadata": {},
   "source": [
    "## Feature Selection - which features are useful/useless"
   ]
  },
  {
   "cell_type": "code",
   "execution_count": 26,
   "metadata": {},
   "outputs": [],
   "source": [
    "from sklearn.feature_selection import f_regression\n",
    "\n",
    "# importing feature_selection module from sklearn library\n",
    "# f_regression creates simple linear regressions of each feature (x_scaled) and the dependant variable (Species)"
   ]
  },
  {
   "cell_type": "code",
   "execution_count": 27,
   "metadata": {},
   "outputs": [
    {
     "data": {
      "text/plain": [
       "(array([  5.06491515,   1.62375473,   2.23314555,   7.20627896,\n",
       "        148.30843301,  17.32301142]),\n",
       " array([2.58037135e-02, 2.04451965e-01, 1.37085757e-01, 8.04482266e-03,\n",
       "        1.92028875e-24, 5.18160895e-05]))"
      ]
     },
     "execution_count": 27,
     "metadata": {},
     "output_type": "execute_result"
    }
   ],
   "source": [
    "f_regression(x_scaled,y)\n",
    "\n",
    "# applying the f_regression model to the data"
   ]
  },
  {
   "cell_type": "code",
   "execution_count": 28,
   "metadata": {},
   "outputs": [],
   "source": [
    "# first array shows F-statistics for each of the regressions\n",
    "# Second array shows the corresponding P-values"
   ]
  },
  {
   "cell_type": "code",
   "execution_count": 29,
   "metadata": {},
   "outputs": [
    {
     "data": {
      "text/plain": [
       "array([2.58037135e-02, 2.04451965e-01, 1.37085757e-01, 8.04482266e-03,\n",
       "       1.92028875e-24, 5.18160895e-05])"
      ]
     },
     "execution_count": 29,
     "metadata": {},
     "output_type": "execute_result"
    }
   ],
   "source": [
    "p_values = f_regression(x_scaled,y)[1]\n",
    "p_values\n",
    "\n",
    "# storing the p-values from the regression in the variable 'p_values'"
   ]
  },
  {
   "cell_type": "code",
   "execution_count": 30,
   "metadata": {},
   "outputs": [
    {
     "data": {
      "text/plain": [
       "array([0.026, 0.204, 0.137, 0.008, 0.   , 0.   ])"
      ]
     },
     "execution_count": 30,
     "metadata": {},
     "output_type": "execute_result"
    }
   ],
   "source": [
    "p_values.round(3)\n",
    "\n",
    "# as the output is written in scientific notation, the p_values will be rounded to 3 digits"
   ]
  },
  {
   "cell_type": "code",
   "execution_count": 31,
   "metadata": {},
   "outputs": [],
   "source": [
    "# as these p-values don't mean much without their corresponding feature lets get them into a table matching them to each feature"
   ]
  },
  {
   "cell_type": "markdown",
   "metadata": {},
   "source": [
    "## Summary Table with P-values"
   ]
  },
  {
   "cell_type": "code",
   "execution_count": 36,
   "metadata": {},
   "outputs": [
    {
     "data": {
      "text/html": [
       "<div>\n",
       "<style scoped>\n",
       "    .dataframe tbody tr th:only-of-type {\n",
       "        vertical-align: middle;\n",
       "    }\n",
       "\n",
       "    .dataframe tbody tr th {\n",
       "        vertical-align: top;\n",
       "    }\n",
       "\n",
       "    .dataframe thead th {\n",
       "        text-align: right;\n",
       "    }\n",
       "</style>\n",
       "<table border=\"1\" class=\"dataframe\">\n",
       "  <thead>\n",
       "    <tr style=\"text-align: right;\">\n",
       "      <th></th>\n",
       "      <th>Features</th>\n",
       "    </tr>\n",
       "  </thead>\n",
       "  <tbody>\n",
       "    <tr>\n",
       "      <th>0</th>\n",
       "      <td>Weight</td>\n",
       "    </tr>\n",
       "    <tr>\n",
       "      <th>1</th>\n",
       "      <td>Length1</td>\n",
       "    </tr>\n",
       "    <tr>\n",
       "      <th>2</th>\n",
       "      <td>Length2</td>\n",
       "    </tr>\n",
       "    <tr>\n",
       "      <th>3</th>\n",
       "      <td>Length3</td>\n",
       "    </tr>\n",
       "    <tr>\n",
       "      <th>4</th>\n",
       "      <td>Height</td>\n",
       "    </tr>\n",
       "    <tr>\n",
       "      <th>5</th>\n",
       "      <td>Width</td>\n",
       "    </tr>\n",
       "  </tbody>\n",
       "</table>\n",
       "</div>"
      ],
      "text/plain": [
       "  Features\n",
       "0   Weight\n",
       "1  Length1\n",
       "2  Length2\n",
       "3  Length3\n",
       "4   Height\n",
       "5    Width"
      ]
     },
     "execution_count": 36,
     "metadata": {},
     "output_type": "execute_result"
    }
   ],
   "source": [
    "reg_summary = pd.DataFrame(data = x.columns.values, columns=['Features'])\n",
    "reg_summary\n",
    "\n",
    "# creating a table with the features"
   ]
  },
  {
   "cell_type": "code",
   "execution_count": 33,
   "metadata": {},
   "outputs": [],
   "source": [
    "reg_summary ['Coefficients'] = reg.coef_\n",
    "reg_summary ['P-values'] = p_values.round(3)\n",
    "\n",
    "# provides the table with the coefficient and p-values of the features"
   ]
  },
  {
   "cell_type": "code",
   "execution_count": 34,
   "metadata": {},
   "outputs": [
    {
     "data": {
      "text/html": [
       "<div>\n",
       "<style scoped>\n",
       "    .dataframe tbody tr th:only-of-type {\n",
       "        vertical-align: middle;\n",
       "    }\n",
       "\n",
       "    .dataframe tbody tr th {\n",
       "        vertical-align: top;\n",
       "    }\n",
       "\n",
       "    .dataframe thead th {\n",
       "        text-align: right;\n",
       "    }\n",
       "</style>\n",
       "<table border=\"1\" class=\"dataframe\">\n",
       "  <thead>\n",
       "    <tr style=\"text-align: right;\">\n",
       "      <th></th>\n",
       "      <th>Features</th>\n",
       "      <th>Coefficients</th>\n",
       "      <th>P-values</th>\n",
       "    </tr>\n",
       "  </thead>\n",
       "  <tbody>\n",
       "    <tr>\n",
       "      <th>0</th>\n",
       "      <td>Weight</td>\n",
       "      <td>0.854763</td>\n",
       "      <td>0.026</td>\n",
       "    </tr>\n",
       "    <tr>\n",
       "      <th>1</th>\n",
       "      <td>Length1</td>\n",
       "      <td>5.614399</td>\n",
       "      <td>0.204</td>\n",
       "    </tr>\n",
       "    <tr>\n",
       "      <th>2</th>\n",
       "      <td>Length2</td>\n",
       "      <td>8.826527</td>\n",
       "      <td>0.137</td>\n",
       "    </tr>\n",
       "    <tr>\n",
       "      <th>3</th>\n",
       "      <td>Length3</td>\n",
       "      <td>-14.375767</td>\n",
       "      <td>0.008</td>\n",
       "    </tr>\n",
       "    <tr>\n",
       "      <th>4</th>\n",
       "      <td>Height</td>\n",
       "      <td>-0.036935</td>\n",
       "      <td>0.000</td>\n",
       "    </tr>\n",
       "    <tr>\n",
       "      <th>5</th>\n",
       "      <td>Width</td>\n",
       "      <td>-1.314161</td>\n",
       "      <td>0.000</td>\n",
       "    </tr>\n",
       "  </tbody>\n",
       "</table>\n",
       "</div>"
      ],
      "text/plain": [
       "  Features  Coefficients  P-values\n",
       "0   Weight      0.854763     0.026\n",
       "1  Length1      5.614399     0.204\n",
       "2  Length2      8.826527     0.137\n",
       "3  Length3    -14.375767     0.008\n",
       "4   Height     -0.036935     0.000\n",
       "5    Width     -1.314161     0.000"
      ]
     },
     "execution_count": 34,
     "metadata": {},
     "output_type": "execute_result"
    }
   ],
   "source": [
    "reg_summary\n",
    "\n",
    "# displaying the table"
   ]
  },
  {
   "cell_type": "markdown",
   "metadata": {},
   "source": [
    "##### Variables with P-values higher than 0.05 (5%)are reduntant\n",
    "##### Variables with P-values below 0.05 (5%)are useful\n",
    "\n",
    "\n",
    "\n",
    "### Length1 (20.4%) and Length2 (13.7%) are redundant variables\n",
    "### Weight (2.6%) and Length3 (0.8%) are certainly significant\n",
    "### However, we can see that Height and Width (both rounded to 0%) are the most significant variables for predicting the fish species"
   ]
  }
 ],
 "metadata": {
  "kernelspec": {
   "display_name": "Python 3",
   "language": "python",
   "name": "python3"
  },
  "language_info": {
   "codemirror_mode": {
    "name": "ipython",
    "version": 3
   },
   "file_extension": ".py",
   "mimetype": "text/x-python",
   "name": "python",
   "nbconvert_exporter": "python",
   "pygments_lexer": "ipython3",
   "version": "3.8.5"
  }
 },
 "nbformat": 4,
 "nbformat_minor": 4
}
