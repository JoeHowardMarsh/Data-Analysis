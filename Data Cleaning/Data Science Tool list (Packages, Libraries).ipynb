{
 "cells": [
  {
   "cell_type": "markdown",
   "metadata": {},
   "source": [
    "### Fetching Data / Webscraping"
   ]
  },
  {
   "cell_type": "markdown",
   "metadata": {},
   "source": [
    "- wget\n",
    "- curl\n",
    "- beautifulsoup\n",
    "- mechanicalsoup\n",
    "- request/urllib\n",
    "- selenium (extracting javascript data)\n",
    "- scrapy (OOP framework)"
   ]
  },
  {
   "cell_type": "markdown",
   "metadata": {},
   "source": [
    "### Data Cleaning"
   ]
  },
  {
   "cell_type": "markdown",
   "metadata": {},
   "source": [
    "- Pandas\n",
    "- Dedupe\n",
    "- Fuzzywuzzy\n",
    "- Scrubadab: Anonymize privacy\n",
    "- Dora: working with missing nulls\n",
    "- Pdftables: extracting tables in PDF\n",
    "- Tabulate\n",
    "- Arrow: dates, times\n",
    "- Pendulum: dates"
   ]
  },
  {
   "cell_type": "markdown",
   "metadata": {},
   "source": [
    "### Data Analysis"
   ]
  },
  {
   "cell_type": "markdown",
   "metadata": {},
   "source": [
    "- numpy\n",
    "- scipy\n",
    "- pandas\n",
    "- tabel"
   ]
  },
  {
   "cell_type": "markdown",
   "metadata": {},
   "source": [
    "### Data Visualization"
   ]
  },
  {
   "cell_type": "markdown",
   "metadata": {},
   "source": [
    "- matplotlib\n",
    "- seaborn\n",
    "- plotly\n",
    "- Bokeh\n",
    "- Alrair\n",
    "- Dash\n",
    "- geoplot"
   ]
  },
  {
   "cell_type": "markdown",
   "metadata": {},
   "source": [
    "### Machine Learning/ Deep Learning"
   ]
  },
  {
   "cell_type": "markdown",
   "metadata": {},
   "source": [
    "- Scikitlearn\n",
    "- Keras\n",
    "- Tensorflow\n",
    "- Theano\n",
    "- Pytorch\n",
    "- scikitlearn - pandas\n",
    "- imbalanced-learn"
   ]
  },
  {
   "cell_type": "markdown",
   "metadata": {},
   "source": [
    "### NLP (Natural Language Processing)"
   ]
  },
  {
   "cell_type": "markdown",
   "metadata": {},
   "source": [
    "- NLTK\n",
    "- SpCy\n",
    "- TextBlob\n",
    "- Standford NLP"
   ]
  },
  {
   "cell_type": "markdown",
   "metadata": {},
   "source": [
    "### Workspace and Environment"
   ]
  },
  {
   "cell_type": "markdown",
   "metadata": {},
   "source": [
    "Virtual Environments:\n",
    "- Anaconda\n",
    "- Pipenv\n",
    "- Venv"
   ]
  },
  {
   "cell_type": "markdown",
   "metadata": {},
   "source": [
    "IDEs: \n",
    "- Jupyter lab/ Jupyter notebook\n",
    "- Nteract\n",
    "- VS code/ Sublime text\n",
    "- Pycharm"
   ]
  },
  {
   "cell_type": "markdown",
   "metadata": {},
   "source": [
    "Cloud\n",
    "- Colab"
   ]
  },
  {
   "cell_type": "code",
   "execution_count": null,
   "metadata": {},
   "outputs": [],
   "source": []
  }
 ],
 "metadata": {
  "kernelspec": {
   "display_name": "Python 3",
   "language": "python",
   "name": "python3"
  },
  "language_info": {
   "codemirror_mode": {
    "name": "ipython",
    "version": 3
   },
   "file_extension": ".py",
   "mimetype": "text/x-python",
   "name": "python",
   "nbconvert_exporter": "python",
   "pygments_lexer": "ipython3",
   "version": "3.8.5"
  }
 },
 "nbformat": 4,
 "nbformat_minor": 4
}
