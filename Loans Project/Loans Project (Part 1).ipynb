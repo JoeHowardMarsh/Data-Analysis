{
 "cells": [
  {
   "cell_type": "code",
   "execution_count": 1,
   "id": "0247aeee",
   "metadata": {},
   "outputs": [],
   "source": [
    "import math"
   ]
  },
  {
   "cell_type": "code",
   "execution_count": 2,
   "id": "d4354a53",
   "metadata": {},
   "outputs": [],
   "source": [
    "# this function calculates the loan EMI with any amount, duration, rate and down payment\n",
    "\n",
    "def loan_emi(amount, duration, rate, down_payment=0):\n",
    "    loan_amount = amount - down_payment\n",
    "    emi = loan_amount * rate * ((1+rate)**duration) / (((1+rate)**duration-1))\n",
    "    emi = math.ceil(emi)\n",
    "    return emi"
   ]
  },
  {
   "cell_type": "markdown",
   "id": "bace22b2",
   "metadata": {},
   "source": [
    "Sean paying back a home loan for a house.\n",
    "cost of house = $800k\n",
    "Sean made a down payment of 25%\n",
    "the rest was paid on 6 year loan with interest rate of 7% per annum\n",
    "\n",
    "Sean now buying a car worth 60k paying via 1 year loan with interest rate of 12% per annum\n",
    "Loans are paid back in Equated Monthly Installments (EMIs)\n",
    "\n",
    "What is the total monthly payment Sean makes towards loan repayment"
   ]
  },
  {
   "cell_type": "code",
   "execution_count": 3,
   "id": "0db3e56a",
   "metadata": {},
   "outputs": [
    {
     "data": {
      "text/plain": [
       "10230"
      ]
     },
     "execution_count": 3,
     "metadata": {},
     "output_type": "execute_result"
    }
   ],
   "source": [
    "cost_of_house = 800000\n",
    "home_loan_duration = 6*12 # month\n",
    "home_loan_rate = 0.07/12 #month\n",
    "home_down_payment = 0.25*800000\n",
    "\n",
    "emi_house = loan_emi(amount=cost_of_house,\n",
    "                    duration=home_loan_duration,\n",
    "                    rate=home_loan_rate,\n",
    "                    down_payment=home_down_payment)\n",
    "emi_house"
   ]
  },
  {
   "cell_type": "code",
   "execution_count": 4,
   "id": "7b61cff4",
   "metadata": {},
   "outputs": [
    {
     "data": {
      "text/plain": [
       "5331"
      ]
     },
     "execution_count": 4,
     "metadata": {},
     "output_type": "execute_result"
    }
   ],
   "source": [
    "cost_of_car = 60000\n",
    "car_loan_duration = 1*12 # months\n",
    "car_loan_rate = .12/12 # monthly\n",
    "\n",
    "emi_car = loan_emi(amount=cost_of_car, duration=car_loan_duration, rate=car_loan_rate)\n",
    "\n",
    "emi_car"
   ]
  },
  {
   "cell_type": "markdown",
   "id": "9ed37842",
   "metadata": {},
   "source": [
    "Q: if u borrow 100k using a 10 year loan with interest rate of 9% per annum,\n",
    "what is the total amount you end up paying as interest?"
   ]
  },
  {
   "cell_type": "code",
   "execution_count": 5,
   "id": "0ba5c80f",
   "metadata": {},
   "outputs": [
    {
     "name": "stdout",
     "output_type": "stream",
     "text": [
      "Now computing the result..\n",
      "Failed to compute result because you were trying to divide by zero\n",
      "None\n"
     ]
    }
   ],
   "source": [
    "try:\n",
    "    print('Now computing the result..')\n",
    "    result = 5/0\n",
    "    print('Computation was completed successfully')\n",
    "except ZeroDivisionError:\n",
    "    print('Failed to compute result because you were trying to divide by zero')\n",
    "    result = None\n",
    "    \n",
    "print(result)"
   ]
  },
  {
   "cell_type": "markdown",
   "id": "ef0289a9",
   "metadata": {},
   "source": [
    "error occurred as cannot divide by 0. EMI is defined with a rate, however with this rate at 0, the variable becomes an\n",
    "equation where something is divided by 0 - therefore error occurs\n",
    "\n",
    "To solve this problem we can create a try and except statement to handle this exception"
   ]
  },
  {
   "cell_type": "code",
   "execution_count": 6,
   "id": "72f2a9e2",
   "metadata": {},
   "outputs": [],
   "source": [
    "# This is an update of the function to account for these occurrances of zero division if the rate = 0.\n",
    "# Now this function will not throw an error because if the rate is 0 then it will ignore it and move to the exception\n",
    "\n",
    "def loan_emi(amount, duration, rate, down_payment=0):\n",
    "    \n",
    "    \"\"\"\"\"Calculates the equal monthly installment(EMI) for a loan.\n",
    "    \n",
    "    Arguments:\n",
    "    amount = total amount to be spent (loan + down payment)\n",
    "    duration = duration of loan in months\n",
    "    rate = rate of monthly interest\n",
    "    down payment = optional initial payment - deducted from amount\n",
    "    \"\"\"\n",
    "    \n",
    "    loan_amount = amount - down_payment\n",
    "    try:\n",
    "        emi = loan_amount * rate * ((1+rate)**duration) / (((1+rate)**duration-1))\n",
    "    except ZeroDivisionError:\n",
    "        emi = loan_amount / duration\n",
    "    emi = math.ceil(emi)\n",
    "    return emi"
   ]
  },
  {
   "cell_type": "code",
   "execution_count": 7,
   "id": "ab59caa9",
   "metadata": {},
   "outputs": [
    {
     "data": {
      "text/plain": [
       "1267"
      ]
     },
     "execution_count": 7,
     "metadata": {},
     "output_type": "execute_result"
    }
   ],
   "source": [
    "emi_with_interest = loan_emi(amount=100000, duration=10*12, rate=0.09/12)\n",
    "emi_with_interest"
   ]
  },
  {
   "cell_type": "code",
   "execution_count": 8,
   "id": "38489906",
   "metadata": {},
   "outputs": [
    {
     "data": {
      "text/plain": [
       "834"
      ]
     },
     "execution_count": 8,
     "metadata": {},
     "output_type": "execute_result"
    }
   ],
   "source": [
    "# now this calculation can work. If the rate is 0 then the exception is triggered to ignore this rate\n",
    "\n",
    "emi_without_interest = loan_emi(amount=100000, duration=10*12, rate=0)\n",
    "emi_without_interest"
   ]
  },
  {
   "cell_type": "code",
   "execution_count": 9,
   "id": "c164f583",
   "metadata": {},
   "outputs": [],
   "source": [
    "# to calculate the total interest we take the emi with interest - the emi without interest\n",
    "# and then multiply it with the duration of the loan (years * months)\n",
    "\n",
    "total_interest = (emi_with_interest - emi_without_interest) * 10*12"
   ]
  },
  {
   "cell_type": "code",
   "execution_count": 10,
   "id": "9130fe8f",
   "metadata": {},
   "outputs": [
    {
     "name": "stdout",
     "output_type": "stream",
     "text": [
      "the total interest paid is $51960\n"
     ]
    }
   ],
   "source": [
    "print('the total interest paid is ${}'.format(total_interest))"
   ]
  },
  {
   "cell_type": "code",
   "execution_count": null,
   "id": "b1e47a2c",
   "metadata": {},
   "outputs": [],
   "source": []
  },
  {
   "cell_type": "markdown",
   "id": "7dec6af7",
   "metadata": {},
   "source": [
    "## Climate Data Analysis"
   ]
  },
  {
   "cell_type": "code",
   "execution_count": 11,
   "id": "b4f124a3",
   "metadata": {},
   "outputs": [],
   "source": [
    "import csv\n",
    "import pandas as pd\n",
    "import numpy as np"
   ]
  },
  {
   "cell_type": "code",
   "execution_count": 12,
   "id": "04af6cb7",
   "metadata": {},
   "outputs": [],
   "source": [
    "df = pd.read_csv('climate.csv')"
   ]
  },
  {
   "cell_type": "code",
   "execution_count": 13,
   "id": "6ed017e3",
   "metadata": {},
   "outputs": [],
   "source": [
    "# imports the climate data from the csv straight into a numpy array\n",
    "# skip_header skips the first row - the header\n",
    "\n",
    "climate_data = np.genfromtxt('climate.csv', delimiter=',', skip_header=1)"
   ]
  },
  {
   "cell_type": "code",
   "execution_count": 14,
   "id": "91800c7b",
   "metadata": {},
   "outputs": [
    {
     "data": {
      "text/plain": [
       "array([[25., 76., 99.],\n",
       "       [39., 65., 70.],\n",
       "       [59., 45., 77.],\n",
       "       ...,\n",
       "       [99., 62., 58.],\n",
       "       [70., 71., 91.],\n",
       "       [92., 39., 76.]])"
      ]
     },
     "execution_count": 14,
     "metadata": {},
     "output_type": "execute_result"
    }
   ],
   "source": [
    "# the data contains temperature, rainfall and humidity for each row (each area)\n",
    "\n",
    "climate_data"
   ]
  },
  {
   "cell_type": "code",
   "execution_count": 15,
   "id": "0b02687b",
   "metadata": {},
   "outputs": [
    {
     "data": {
      "text/plain": [
       "(10000, 3)"
      ]
     },
     "execution_count": 15,
     "metadata": {},
     "output_type": "execute_result"
    }
   ],
   "source": [
    "climate_data.shape"
   ]
  },
  {
   "cell_type": "code",
   "execution_count": 16,
   "id": "3f529194",
   "metadata": {},
   "outputs": [],
   "source": [
    "weights = np.array([0.3, 0.2, 0.5])"
   ]
  },
  {
   "cell_type": "code",
   "execution_count": 17,
   "id": "99a3acdd",
   "metadata": {},
   "outputs": [],
   "source": [
    "# the @ symbol performs the matrix multiplication - multiplying each weight to its corresponding data in every entry of the array\n",
    "\n",
    "yields = climate_data @ weights"
   ]
  },
  {
   "cell_type": "code",
   "execution_count": 18,
   "id": "baf7911a",
   "metadata": {},
   "outputs": [
    {
     "data": {
      "text/plain": [
       "array([72.2, 59.7, 65.2, ..., 71.1, 80.7, 73.4])"
      ]
     },
     "execution_count": 18,
     "metadata": {},
     "output_type": "execute_result"
    }
   ],
   "source": [
    "# here are the results\n",
    "\n",
    "yields"
   ]
  },
  {
   "cell_type": "code",
   "execution_count": 19,
   "id": "b88617ae",
   "metadata": {},
   "outputs": [
    {
     "data": {
      "text/plain": [
       "(10000,)"
      ]
     },
     "execution_count": 19,
     "metadata": {},
     "output_type": "execute_result"
    }
   ],
   "source": [
    "yields.shape"
   ]
  },
  {
   "cell_type": "code",
   "execution_count": 20,
   "id": "019ff91c",
   "metadata": {},
   "outputs": [],
   "source": [
    "# now we take the resulting yields that we have collected and add it as a new column back inside the climate data array\n",
    "\n",
    "# making sure to concatenate along the first dimension (axis 1)\n",
    "\n",
    "climate_results = np.concatenate((climate_data, yields.reshape(10000, 1)), axis=1)"
   ]
  },
  {
   "cell_type": "code",
   "execution_count": 21,
   "id": "6e7a64e8",
   "metadata": {},
   "outputs": [
    {
     "data": {
      "text/plain": [
       "array([[25. , 76. , 99. , 72.2],\n",
       "       [39. , 65. , 70. , 59.7],\n",
       "       [59. , 45. , 77. , 65.2],\n",
       "       ...,\n",
       "       [99. , 62. , 58. , 71.1],\n",
       "       [70. , 71. , 91. , 80.7],\n",
       "       [92. , 39. , 76. , 73.4]])"
      ]
     },
     "execution_count": 21,
     "metadata": {},
     "output_type": "execute_result"
    }
   ],
   "source": [
    "# now this array contains the yield results in the last column\n",
    "\n",
    "climate_results"
   ]
  },
  {
   "cell_type": "code",
   "execution_count": 24,
   "id": "5d267730",
   "metadata": {},
   "outputs": [],
   "source": [
    "# now we want to save the 'climate results' back into a new csv file\n",
    "# the fmt formats the string to display only to 2 decimal places\n",
    "# also included a header at the top representing what the columns are\n",
    "# the comments argument\n",
    "\n",
    "\n",
    "np.savetxt('climate_results.csv',\n",
    "          climate_results,\n",
    "          fmt='%.2f',\n",
    "          header='temperature,rainfall,humidity,yield_apples',\n",
    "          comments=' ')"
   ]
  },
  {
   "cell_type": "code",
   "execution_count": null,
   "id": "eb926149",
   "metadata": {},
   "outputs": [],
   "source": []
  }
 ],
 "metadata": {
  "kernelspec": {
   "display_name": "Python 3",
   "language": "python",
   "name": "python3"
  },
  "language_info": {
   "codemirror_mode": {
    "name": "ipython",
    "version": 3
   },
   "file_extension": ".py",
   "mimetype": "text/x-python",
   "name": "python",
   "nbconvert_exporter": "python",
   "pygments_lexer": "ipython3",
   "version": "3.8.8"
  }
 },
 "nbformat": 4,
 "nbformat_minor": 5
}
