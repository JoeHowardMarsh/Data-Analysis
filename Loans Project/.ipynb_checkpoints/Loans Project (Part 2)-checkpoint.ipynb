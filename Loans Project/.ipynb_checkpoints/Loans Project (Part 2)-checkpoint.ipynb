{
 "cells": [
  {
   "cell_type": "markdown",
   "id": "dc195dc4",
   "metadata": {},
   "source": [
    "# Interacting with the OS and filesystem"
   ]
  },
  {
   "cell_type": "code",
   "execution_count": 1,
   "id": "b8c72051",
   "metadata": {},
   "outputs": [],
   "source": [
    "import os\n",
    "import math"
   ]
  },
  {
   "cell_type": "code",
   "execution_count": 2,
   "id": "aa5d5672",
   "metadata": {},
   "outputs": [
    {
     "data": {
      "text/plain": [
       "'C:\\\\Users\\\\joe_h\\\\Projects - Data Analysis\\\\Loans Project'"
      ]
     },
     "execution_count": 2,
     "metadata": {},
     "output_type": "execute_result"
    }
   ],
   "source": [
    "# checking the present working directory\n",
    "os.getcwd()"
   ]
  },
  {
   "cell_type": "code",
   "execution_count": 3,
   "id": "bb632356",
   "metadata": {
    "scrolled": true
   },
   "outputs": [
    {
     "name": "stdout",
     "output_type": "stream",
     "text": [
      "Help on built-in function listdir in module nt:\n",
      "\n",
      "listdir(path=None)\n",
      "    Return a list containing the names of the files in the directory.\n",
      "    \n",
      "    path can be specified as either str, bytes, or a path-like object.  If path is bytes,\n",
      "      the filenames returned will also be bytes; in all other circumstances\n",
      "      the filenames returned will be str.\n",
      "    If path is None, uses the path='.'.\n",
      "    On some platforms, path may also be specified as an open file descriptor;\\\n",
      "      the file descriptor must refer to a directory.\n",
      "      If this functionality is unavailable, using it raises NotImplementedError.\n",
      "    \n",
      "    The list is in arbitrary order.  It does not include the special\n",
      "    entries '.' and '..' even if they are present in the directory.\n",
      "\n"
     ]
    }
   ],
   "source": [
    "# get the list of files in a directory:\n",
    "help(os.listdir)"
   ]
  },
  {
   "cell_type": "code",
   "execution_count": 4,
   "id": "cd6f73aa",
   "metadata": {},
   "outputs": [
    {
     "data": {
      "text/plain": [
       "['.ipynb_checkpoints',\n",
       " 'Arithmetic operations and broadcasting.ipynb',\n",
       " 'climate.csv',\n",
       " 'climate_results.csv',\n",
       " 'data',\n",
       " 'Loans Project (Part 1).ipynb',\n",
       " 'Loans Project (Part 2).ipynb']"
      ]
     },
     "execution_count": 4,
     "metadata": {},
     "output_type": "execute_result"
    }
   ],
   "source": [
    "# here ('.') refers to the current directory\n",
    "os.listdir('.')"
   ]
  },
  {
   "cell_type": "code",
   "execution_count": 5,
   "id": "c6454bb0",
   "metadata": {},
   "outputs": [
    {
     "data": {
      "text/plain": [
       "[]"
      ]
     },
     "execution_count": 5,
     "metadata": {},
     "output_type": "execute_result"
    }
   ],
   "source": [
    "os.listdir('C:/Users/joe_h/Projects - Data Analysis/Data Analysis - Useful Calculation Basics')"
   ]
  },
  {
   "cell_type": "code",
   "execution_count": 6,
   "id": "3e1ad6c9",
   "metadata": {},
   "outputs": [
    {
     "data": {
      "text/plain": [
       "['loans1.txt', 'loans2.txt', 'loans3.txt']"
      ]
     },
     "execution_count": 6,
     "metadata": {},
     "output_type": "execute_result"
    }
   ],
   "source": [
    "# can also create new files in new directories\n",
    "os.makedirs('./data', exist_ok=True)\n",
    "os.listdir('./data')"
   ]
  },
  {
   "cell_type": "code",
   "execution_count": 7,
   "id": "d1ee63d1",
   "metadata": {},
   "outputs": [],
   "source": [
    "# downloading some files into the newly created 'data' directory using urllib module"
   ]
  },
  {
   "cell_type": "code",
   "execution_count": 8,
   "id": "109832d3",
   "metadata": {},
   "outputs": [],
   "source": [
    "# these are the urls to import from\n",
    "url1 = 'https://hub.jovian.ml/wp-content/uploads/2020/08/loans1.txt'\n",
    "url2 = 'https://hub.jovian.ml/wp-content/uploads/2020/08/loans2.txt'\n",
    "url3 = 'https://hub.jovian.ml/wp-content/uploads/2020/08/loans3.txt'"
   ]
  },
  {
   "cell_type": "code",
   "execution_count": 9,
   "id": "74aafd04",
   "metadata": {},
   "outputs": [],
   "source": [
    "import urllib.request"
   ]
  },
  {
   "cell_type": "code",
   "execution_count": 10,
   "id": "94b5a225",
   "metadata": {},
   "outputs": [
    {
     "data": {
      "text/plain": [
       "('./data/loans1.txt', <http.client.HTTPMessage at 0x1e53060cdf0>)"
      ]
     },
     "execution_count": 10,
     "metadata": {},
     "output_type": "execute_result"
    }
   ],
   "source": [
    "urllib.request.urlretrieve(url1, './data/loans1.txt')"
   ]
  },
  {
   "cell_type": "code",
   "execution_count": 11,
   "id": "822dd56b",
   "metadata": {},
   "outputs": [
    {
     "data": {
      "text/plain": [
       "('./data/loans2.txt', <http.client.HTTPMessage at 0x1e53060c070>)"
      ]
     },
     "execution_count": 11,
     "metadata": {},
     "output_type": "execute_result"
    }
   ],
   "source": [
    "urllib.request.urlretrieve(url1, './data/loans2.txt')"
   ]
  },
  {
   "cell_type": "code",
   "execution_count": 12,
   "id": "5891f7ea",
   "metadata": {},
   "outputs": [
    {
     "data": {
      "text/plain": [
       "('./data/loans3.txt', <http.client.HTTPMessage at 0x1e530720850>)"
      ]
     },
     "execution_count": 12,
     "metadata": {},
     "output_type": "execute_result"
    }
   ],
   "source": [
    "urllib.request.urlretrieve(url1, './data/loans3.txt')"
   ]
  },
  {
   "cell_type": "markdown",
   "id": "42e89c61",
   "metadata": {},
   "source": [
    "## Reading from a file\n",
    "#### to read it first needs to be opened"
   ]
  },
  {
   "cell_type": "code",
   "execution_count": 13,
   "id": "fd486607",
   "metadata": {},
   "outputs": [],
   "source": [
    "# opening the file with read (r) and saving in the variable 'file1'\n",
    "\n",
    "file1 = open('./data/loans1.txt', mode = 'r')"
   ]
  },
  {
   "cell_type": "code",
   "execution_count": 14,
   "id": "c0168fac",
   "metadata": {},
   "outputs": [
    {
     "data": {
      "text/plain": [
       "'amount,duration,rate,down_payment\\n100000,36,0.08,20000\\n200000,12,0.1,\\n628400,120,0.12,100000\\n4637400,240,0.06,\\n42900,90,0.07,8900\\n916000,16,0.13,\\n45230,48,0.08,4300\\n991360,99,0.08,\\n423000,27,0.09,47200'"
      ]
     },
     "execution_count": 14,
     "metadata": {},
     "output_type": "execute_result"
    }
   ],
   "source": [
    "# file1.read gets the contents of the entire file into a single string\n",
    "\n",
    "file1_contents = file1.read()\n",
    "\n",
    "file1_contents"
   ]
  },
  {
   "cell_type": "code",
   "execution_count": 15,
   "id": "c6bb2610",
   "metadata": {},
   "outputs": [
    {
     "name": "stdout",
     "output_type": "stream",
     "text": [
      "amount,duration,rate,down_payment\n",
      "100000,36,0.08,20000\n",
      "200000,12,0.1,\n",
      "628400,120,0.12,100000\n",
      "4637400,240,0.06,\n",
      "42900,90,0.07,8900\n",
      "916000,16,0.13,\n",
      "45230,48,0.08,4300\n",
      "991360,99,0.08,\n",
      "423000,27,0.09,47200\n"
     ]
    }
   ],
   "source": [
    "print(file1_contents)"
   ]
  },
  {
   "cell_type": "code",
   "execution_count": 16,
   "id": "a2f62319",
   "metadata": {},
   "outputs": [],
   "source": [
    "# after you are finished with a file it's important to close the file!\n",
    "# this is because the file takes up memory so it should be closed to speed things up\n",
    "\n",
    "file1.close()"
   ]
  },
  {
   "cell_type": "markdown",
   "id": "cb305a33",
   "metadata": {},
   "source": [
    "## Closing files automatically with the 'with' statement"
   ]
  },
  {
   "cell_type": "code",
   "execution_count": 17,
   "id": "cfe02311",
   "metadata": {},
   "outputs": [
    {
     "name": "stdout",
     "output_type": "stream",
     "text": [
      "amount,duration,rate,down_payment\n",
      "100000,36,0.08,20000\n",
      "200000,12,0.1,\n",
      "628400,120,0.12,100000\n",
      "4637400,240,0.06,\n",
      "42900,90,0.07,8900\n",
      "916000,16,0.13,\n",
      "45230,48,0.08,4300\n",
      "991360,99,0.08,\n",
      "423000,27,0.09,47200\n"
     ]
    }
   ],
   "source": [
    "#\n",
    "\n",
    "with open('./data/loans2.txt', 'r') as file2:\n",
    "    file2_contents = file2.read()\n",
    "    print(file2_contents)"
   ]
  },
  {
   "cell_type": "markdown",
   "id": "42d2b230",
   "metadata": {},
   "source": [
    "## Reading a file line by line"
   ]
  },
  {
   "cell_type": "code",
   "execution_count": 18,
   "id": "f49e2bc0",
   "metadata": {},
   "outputs": [],
   "source": [
    "# this will print the file line by line\n",
    "\n",
    "with open('./data/loans3.txt', 'r') as file3:\n",
    "    file3_lines = file3.readlines()"
   ]
  },
  {
   "cell_type": "markdown",
   "id": "cefc9908",
   "metadata": {},
   "source": [
    "## Processing Data from Files"
   ]
  },
  {
   "cell_type": "code",
   "execution_count": 19,
   "id": "66ed569e",
   "metadata": {},
   "outputs": [
    {
     "name": "stdout",
     "output_type": "stream",
     "text": [
      "amount,duration,rate,down_payment\n",
      "100000,36,0.08,20000\n",
      "200000,12,0.1,\n",
      "628400,120,0.12,100000\n",
      "4637400,240,0.06,\n",
      "42900,90,0.07,8900\n",
      "916000,16,0.13,\n",
      "45230,48,0.08,4300\n",
      "991360,99,0.08,\n",
      "423000,27,0.09,47200\n"
     ]
    }
   ],
   "source": [
    "print(file2_contents)"
   ]
  },
  {
   "cell_type": "code",
   "execution_count": 20,
   "id": "d7b20985",
   "metadata": {},
   "outputs": [
    {
     "data": {
      "text/plain": [
       "['100000', '36', '0.08', '20000']"
      ]
     },
     "execution_count": 20,
     "metadata": {},
     "output_type": "execute_result"
    }
   ],
   "source": [
    "# split the line into its parts\n",
    "'100000,36,0.08,20000'.split(',')"
   ]
  },
  {
   "cell_type": "code",
   "execution_count": 21,
   "id": "12beaa1f",
   "metadata": {},
   "outputs": [],
   "source": [
    "# create a dictionary for each loan and using the headers as keys\n",
    "loan1 = {\n",
    "    'amount': 100000,\n",
    "    'duration': 36,\n",
    "    'rate': 0.08,\n",
    "    'down_payment': 20000\n",
    "}"
   ]
  },
  {
   "cell_type": "code",
   "execution_count": 22,
   "id": "28fc4f5a",
   "metadata": {},
   "outputs": [],
   "source": [
    "# creating a list of dictionaries to keep track of all the loans\n",
    "# since we're performing the same operations on multiple files, define a function to do this.\n",
    "\n",
    "# this function parse_header will take a line as input and return a list of column headers as output\n",
    "\n",
    "def parse_headers(header_line):\n",
    "    return header_line.strip().split(',')"
   ]
  },
  {
   "cell_type": "code",
   "execution_count": 23,
   "id": "818adc74",
   "metadata": {},
   "outputs": [
    {
     "data": {
      "text/plain": [
       "'amount,duration,rate,down_payment\\n'"
      ]
     },
     "execution_count": 23,
     "metadata": {},
     "output_type": "execute_result"
    }
   ],
   "source": [
    "file3_lines[0]"
   ]
  },
  {
   "cell_type": "code",
   "execution_count": 24,
   "id": "7de81f9c",
   "metadata": {},
   "outputs": [],
   "source": [
    "# using the function on the headers so now the 'headers' object is a list of the headers\n",
    "headers = parse_headers(file3_lines[0])"
   ]
  },
  {
   "cell_type": "code",
   "execution_count": 25,
   "id": "4a43ac6d",
   "metadata": {},
   "outputs": [
    {
     "data": {
      "text/plain": [
       "['amount', 'duration', 'rate', 'down_payment']"
      ]
     },
     "execution_count": 25,
     "metadata": {},
     "output_type": "execute_result"
    }
   ],
   "source": [
    "headers"
   ]
  },
  {
   "cell_type": "code",
   "execution_count": 26,
   "id": "9d004ec9",
   "metadata": {},
   "outputs": [],
   "source": [
    "# now defining a function which takes a line and returns a list of floating point numbers\n",
    "\n",
    "def parse_values(data_line):\n",
    "    values = []\n",
    "    for item in data_line.strip().split(','):\n",
    "        values.append(float(item))\n",
    "    return values"
   ]
  },
  {
   "cell_type": "code",
   "execution_count": 27,
   "id": "1c60dd0b",
   "metadata": {},
   "outputs": [
    {
     "data": {
      "text/plain": [
       "'628400,120,0.12,100000\\n'"
      ]
     },
     "execution_count": 27,
     "metadata": {},
     "output_type": "execute_result"
    }
   ],
   "source": [
    "# now each line is stored as an index in the list 'file3_lines', this case calling line 5(4)\n",
    "\n",
    "file3_lines[3]"
   ]
  },
  {
   "cell_type": "code",
   "execution_count": 28,
   "id": "c9de9ce4",
   "metadata": {},
   "outputs": [
    {
     "data": {
      "text/plain": [
       "['628400', '120', '0.12', '100000']"
      ]
     },
     "execution_count": 28,
     "metadata": {},
     "output_type": "execute_result"
    }
   ],
   "source": [
    "file3_lines[3].strip().split(',')"
   ]
  },
  {
   "cell_type": "code",
   "execution_count": 29,
   "id": "19f1c327",
   "metadata": {},
   "outputs": [
    {
     "data": {
      "text/plain": [
       "[628400.0, 120.0, 0.12, 100000.0]"
      ]
     },
     "execution_count": 29,
     "metadata": {},
     "output_type": "execute_result"
    }
   ],
   "source": [
    "# now using the new function on particular lines to convert the strings to floats\n",
    "\n",
    "parse_values(file3_lines[3])"
   ]
  },
  {
   "cell_type": "code",
   "execution_count": 30,
   "id": "b33e8434",
   "metadata": {},
   "outputs": [
    {
     "ename": "ValueError",
     "evalue": "could not convert string to float: ''",
     "output_type": "error",
     "traceback": [
      "\u001b[1;31m---------------------------------------------------------------------------\u001b[0m",
      "\u001b[1;31mValueError\u001b[0m                                Traceback (most recent call last)",
      "\u001b[1;32m<ipython-input-30-63aa471ce3b5>\u001b[0m in \u001b[0;36m<module>\u001b[1;34m\u001b[0m\n\u001b[0;32m      3\u001b[0m \u001b[1;33m\u001b[0m\u001b[0m\n\u001b[0;32m      4\u001b[0m \u001b[0mfile3_lines\u001b[0m\u001b[1;33m[\u001b[0m\u001b[1;36m2\u001b[0m\u001b[1;33m]\u001b[0m\u001b[1;33m.\u001b[0m\u001b[0mstrip\u001b[0m\u001b[1;33m(\u001b[0m\u001b[1;33m)\u001b[0m\u001b[1;33m.\u001b[0m\u001b[0msplit\u001b[0m\u001b[1;33m(\u001b[0m\u001b[1;34m','\u001b[0m\u001b[1;33m)\u001b[0m\u001b[1;33m\u001b[0m\u001b[1;33m\u001b[0m\u001b[0m\n\u001b[1;32m----> 5\u001b[1;33m \u001b[0mparse_values\u001b[0m\u001b[1;33m(\u001b[0m\u001b[0mfile3_lines\u001b[0m\u001b[1;33m[\u001b[0m\u001b[1;36m2\u001b[0m\u001b[1;33m]\u001b[0m\u001b[1;33m)\u001b[0m\u001b[1;33m\u001b[0m\u001b[1;33m\u001b[0m\u001b[0m\n\u001b[0m",
      "\u001b[1;32m<ipython-input-26-030730e78624>\u001b[0m in \u001b[0;36mparse_values\u001b[1;34m(data_line)\u001b[0m\n\u001b[0;32m      4\u001b[0m     \u001b[0mvalues\u001b[0m \u001b[1;33m=\u001b[0m \u001b[1;33m[\u001b[0m\u001b[1;33m]\u001b[0m\u001b[1;33m\u001b[0m\u001b[1;33m\u001b[0m\u001b[0m\n\u001b[0;32m      5\u001b[0m     \u001b[1;32mfor\u001b[0m \u001b[0mitem\u001b[0m \u001b[1;32min\u001b[0m \u001b[0mdata_line\u001b[0m\u001b[1;33m.\u001b[0m\u001b[0mstrip\u001b[0m\u001b[1;33m(\u001b[0m\u001b[1;33m)\u001b[0m\u001b[1;33m.\u001b[0m\u001b[0msplit\u001b[0m\u001b[1;33m(\u001b[0m\u001b[1;34m','\u001b[0m\u001b[1;33m)\u001b[0m\u001b[1;33m:\u001b[0m\u001b[1;33m\u001b[0m\u001b[1;33m\u001b[0m\u001b[0m\n\u001b[1;32m----> 6\u001b[1;33m         \u001b[0mvalues\u001b[0m\u001b[1;33m.\u001b[0m\u001b[0mappend\u001b[0m\u001b[1;33m(\u001b[0m\u001b[0mfloat\u001b[0m\u001b[1;33m(\u001b[0m\u001b[0mitem\u001b[0m\u001b[1;33m)\u001b[0m\u001b[1;33m)\u001b[0m\u001b[1;33m\u001b[0m\u001b[1;33m\u001b[0m\u001b[0m\n\u001b[0m\u001b[0;32m      7\u001b[0m     \u001b[1;32mreturn\u001b[0m \u001b[0mvalues\u001b[0m\u001b[1;33m\u001b[0m\u001b[1;33m\u001b[0m\u001b[0m\n",
      "\u001b[1;31mValueError\u001b[0m: could not convert string to float: ''"
     ]
    }
   ],
   "source": [
    "# however, this method doesn't work with empty strings, e.g. the third line (2)\n",
    "# it throws an error as line 3 doesn't have a down_payment\n",
    "\n",
    "file3_lines[2].strip().split(',')\n",
    "parse_values(file3_lines[2])"
   ]
  },
  {
   "cell_type": "code",
   "execution_count": 32,
   "id": "674d18bf",
   "metadata": {},
   "outputs": [],
   "source": [
    "# to control for errors like this we write an if statement, inside the 'parse_values' function, which takes this into account\n",
    "# in the if statement - if item is an empty string then append it with 0.0\n",
    "\n",
    "def parse_values(data_line):\n",
    "    values = []\n",
    "    for item in data_line.strip().split(','):\n",
    "        if item == '':\n",
    "            values.append(0.0)\n",
    "        else:\n",
    "            values.append(float(item))\n",
    "    return values"
   ]
  },
  {
   "cell_type": "code",
   "execution_count": 33,
   "id": "47e79de6",
   "metadata": {},
   "outputs": [
    {
     "data": {
      "text/plain": [
       "[200000.0, 12.0, 0.1, 0.0]"
      ]
     },
     "execution_count": 33,
     "metadata": {},
     "output_type": "execute_result"
    }
   ],
   "source": [
    "# now the third line from file3 can be parsed this time! (0.0 got appended as the down_payment value)\n",
    "\n",
    "file3_lines[2].strip().split(',')\n",
    "parse_values(file3_lines[2])"
   ]
  },
  {
   "cell_type": "code",
   "execution_count": 34,
   "id": "c6dfd552",
   "metadata": {},
   "outputs": [],
   "source": [
    "# defining a function to create an item dictionary which takes a list of values and the list of headers and\n",
    "# returns a dictionary with the values associated with their respective header keys\n",
    "\n",
    "# the zip() function takes iterables (can be zero or more), aggregates them in a tuple, and returns it\n",
    "\n",
    "def create_item_dict(values, headers):\n",
    "    result = {}\n",
    "    for value, header in zip(values, headers):\n",
    "        result[header] = value\n",
    "    return result"
   ]
  },
  {
   "cell_type": "code",
   "execution_count": 35,
   "id": "8aa9d154",
   "metadata": {},
   "outputs": [
    {
     "data": {
      "text/plain": [
       "[200000.0, 12.0, 0.1, 0.0]"
      ]
     },
     "execution_count": 35,
     "metadata": {},
     "output_type": "execute_result"
    }
   ],
   "source": [
    "values1 = parse_values(file3_lines[2])\n",
    "values1"
   ]
  },
  {
   "cell_type": "code",
   "execution_count": 36,
   "id": "e849c6bb",
   "metadata": {},
   "outputs": [
    {
     "data": {
      "text/plain": [
       "{'amount': 200000.0, 'duration': 12.0, 'rate': 0.1, 'down_payment': 0.0}"
      ]
     },
     "execution_count": 36,
     "metadata": {},
     "output_type": "execute_result"
    }
   ],
   "source": [
    "# this function takes the headers and the values and creates a dictionary\n",
    "create_item_dict(values1, headers)"
   ]
  },
  {
   "cell_type": "markdown",
   "id": "8fd079bf",
   "metadata": {},
   "source": [
    "## Combining the functions together in a new function called 'read_csv'"
   ]
  },
  {
   "cell_type": "code",
   "execution_count": 37,
   "id": "7a632906",
   "metadata": {},
   "outputs": [],
   "source": [
    "def read_csv(path):\n",
    "    result = []\n",
    "    # open the file in read mode\n",
    "    with open(path, 'r') as f:\n",
    "        # get a list of lines\n",
    "        lines = f.readlines()\n",
    "        # parse the header\n",
    "        headers = parse_headers(lines[0])\n",
    "        # loop over the remaining lines\n",
    "        for data_line in lines[1:]:\n",
    "            # parse the values\n",
    "            values = parse_values(data_line)\n",
    "            # create a dictionary using values and headers\n",
    "            item_dict = create_item_dict(values, headers)\n",
    "            # add the dictionary to the result\n",
    "            result.append(item_dict)\n",
    "        return result"
   ]
  },
  {
   "cell_type": "code",
   "execution_count": 38,
   "id": "01e6b6c8",
   "metadata": {},
   "outputs": [
    {
     "name": "stdout",
     "output_type": "stream",
     "text": [
      "amount,duration,rate,down_payment\n",
      "100000,36,0.08,20000\n",
      "200000,12,0.1,\n",
      "628400,120,0.12,100000\n",
      "4637400,240,0.06,\n",
      "42900,90,0.07,8900\n",
      "916000,16,0.13,\n",
      "45230,48,0.08,4300\n",
      "991360,99,0.08,\n",
      "423000,27,0.09,47200\n"
     ]
    }
   ],
   "source": [
    "# lets test it out\n",
    "\n",
    "with open('./data/loans2.txt') as file2:\n",
    "    print(file2.read())"
   ]
  },
  {
   "cell_type": "code",
   "execution_count": 39,
   "id": "ebdcb3ca",
   "metadata": {},
   "outputs": [
    {
     "data": {
      "text/plain": [
       "[{'amount': 100000.0, 'duration': 36.0, 'rate': 0.08, 'down_payment': 20000.0},\n",
       " {'amount': 200000.0, 'duration': 12.0, 'rate': 0.1, 'down_payment': 0.0},\n",
       " {'amount': 628400.0,\n",
       "  'duration': 120.0,\n",
       "  'rate': 0.12,\n",
       "  'down_payment': 100000.0},\n",
       " {'amount': 4637400.0, 'duration': 240.0, 'rate': 0.06, 'down_payment': 0.0},\n",
       " {'amount': 42900.0, 'duration': 90.0, 'rate': 0.07, 'down_payment': 8900.0},\n",
       " {'amount': 916000.0, 'duration': 16.0, 'rate': 0.13, 'down_payment': 0.0},\n",
       " {'amount': 45230.0, 'duration': 48.0, 'rate': 0.08, 'down_payment': 4300.0},\n",
       " {'amount': 991360.0, 'duration': 99.0, 'rate': 0.08, 'down_payment': 0.0},\n",
       " {'amount': 423000.0, 'duration': 27.0, 'rate': 0.09, 'down_payment': 47200.0}]"
      ]
     },
     "execution_count": 39,
     "metadata": {},
     "output_type": "execute_result"
    }
   ],
   "source": [
    "# it works! we now have a list of dictionaries including every aspect of every transaction\n",
    "\n",
    "read_csv('./data/loans2.txt')"
   ]
  },
  {
   "cell_type": "markdown",
   "id": "ea4e6e45",
   "metadata": {},
   "source": [
    "## The function below is from the 'Loans Project (Part 1)' and we can now use it\n",
    "## to calculate EMIs for all loans in the file"
   ]
  },
  {
   "cell_type": "code",
   "execution_count": 40,
   "id": "417bb8a1",
   "metadata": {},
   "outputs": [],
   "source": [
    "def loan_emi(amount, duration, rate, down_payment=0):\n",
    "    \n",
    "    \"\"\"\"\"Calculates the equal monthly installment(EMI) for a loan.\n",
    "    \n",
    "    Arguments:\n",
    "    amount = total amount to be spent (loan + down payment)\n",
    "    duration = duration of loan in months\n",
    "    rate = rate of monthly interest\n",
    "    down payment = optional initial payment - deducted from amount\n",
    "    \"\"\"\n",
    "    \n",
    "    loan_amount = amount - down_payment\n",
    "    try:\n",
    "        emi = loan_amount * rate * ((1+rate)**duration) / (((1+rate)**duration-1))\n",
    "    except ZeroDivisionError:\n",
    "        emi = loan_amount / duration\n",
    "    emi = math.ceil(emi)\n",
    "    return emi"
   ]
  },
  {
   "cell_type": "code",
   "execution_count": 41,
   "id": "05d29077",
   "metadata": {},
   "outputs": [],
   "source": [
    "# the function 'read_csv' with the loans2 file is stored in a new variable 'loans2'\n",
    "\n",
    "loans2 = read_csv('./data/loans2.txt')"
   ]
  },
  {
   "cell_type": "code",
   "execution_count": 42,
   "id": "2bf321ae",
   "metadata": {},
   "outputs": [],
   "source": [
    "# now we can create a function to calculate the equal monthly installments for each of the loans in the list\n",
    "\n",
    "for loan in loans2:\n",
    "    loan['emi'] = loan_emi(loan['amount'],\n",
    "                           loan['duration'],\n",
    "                           loan['rate']/12, # monthly rate of interest (file contains yearly)\n",
    "                           loan['down_payment'])"
   ]
  },
  {
   "cell_type": "code",
   "execution_count": 43,
   "id": "a07499ae",
   "metadata": {},
   "outputs": [
    {
     "data": {
      "text/plain": [
       "[{'amount': 100000.0,\n",
       "  'duration': 36.0,\n",
       "  'rate': 0.08,\n",
       "  'down_payment': 20000.0,\n",
       "  'emi': 2507},\n",
       " {'amount': 200000.0,\n",
       "  'duration': 12.0,\n",
       "  'rate': 0.1,\n",
       "  'down_payment': 0.0,\n",
       "  'emi': 17584},\n",
       " {'amount': 628400.0,\n",
       "  'duration': 120.0,\n",
       "  'rate': 0.12,\n",
       "  'down_payment': 100000.0,\n",
       "  'emi': 7582},\n",
       " {'amount': 4637400.0,\n",
       "  'duration': 240.0,\n",
       "  'rate': 0.06,\n",
       "  'down_payment': 0.0,\n",
       "  'emi': 33224},\n",
       " {'amount': 42900.0,\n",
       "  'duration': 90.0,\n",
       "  'rate': 0.07,\n",
       "  'down_payment': 8900.0,\n",
       "  'emi': 487},\n",
       " {'amount': 916000.0,\n",
       "  'duration': 16.0,\n",
       "  'rate': 0.13,\n",
       "  'down_payment': 0.0,\n",
       "  'emi': 62664},\n",
       " {'amount': 45230.0,\n",
       "  'duration': 48.0,\n",
       "  'rate': 0.08,\n",
       "  'down_payment': 4300.0,\n",
       "  'emi': 1000},\n",
       " {'amount': 991360.0,\n",
       "  'duration': 99.0,\n",
       "  'rate': 0.08,\n",
       "  'down_payment': 0.0,\n",
       "  'emi': 13712},\n",
       " {'amount': 423000.0,\n",
       "  'duration': 27.0,\n",
       "  'rate': 0.09,\n",
       "  'down_payment': 47200.0,\n",
       "  'emi': 15428}]"
      ]
     },
     "execution_count": 43,
     "metadata": {},
     "output_type": "execute_result"
    }
   ],
   "source": [
    "# Now 'loans2' object contains the EMI for ever loan in the list!\n",
    "\n",
    "loans2"
   ]
  },
  {
   "cell_type": "markdown",
   "id": "c8450b31",
   "metadata": {},
   "source": [
    "## Extracting the logic into a new function so it can be used for other files too\n",
    "## Now this function can work out the EMI of any loan files with the same format"
   ]
  },
  {
   "cell_type": "code",
   "execution_count": 44,
   "id": "9068722d",
   "metadata": {},
   "outputs": [],
   "source": [
    "def compute_emis(loans):\n",
    "    for loan in loans:\n",
    "        loan['emi'] = loan_emi(\n",
    "            loan['amount'],\n",
    "            loan['duration'],\n",
    "            loan['rate']/12, # monthly rate of interest (file contains yearly)\n",
    "            loan['down_payment'])"
   ]
  },
  {
   "cell_type": "markdown",
   "id": "253cbd77",
   "metadata": {},
   "source": [
    "### Writing the results back to a csv file"
   ]
  },
  {
   "cell_type": "code",
   "execution_count": 45,
   "id": "89cd3cd5",
   "metadata": {},
   "outputs": [],
   "source": [
    "# getting the loans2 csv\n",
    "\n",
    "loans2 = read_csv('./data/loans2.txt')"
   ]
  },
  {
   "cell_type": "code",
   "execution_count": 46,
   "id": "0fd3c792",
   "metadata": {},
   "outputs": [],
   "source": [
    "# passing it through the function we made to work out all the EMIs\n",
    "\n",
    "compute_emis(loans2)"
   ]
  },
  {
   "cell_type": "code",
   "execution_count": 47,
   "id": "fdf1dd5a",
   "metadata": {},
   "outputs": [
    {
     "data": {
      "text/plain": [
       "[{'amount': 100000.0,\n",
       "  'duration': 36.0,\n",
       "  'rate': 0.08,\n",
       "  'down_payment': 20000.0,\n",
       "  'emi': 2507},\n",
       " {'amount': 200000.0,\n",
       "  'duration': 12.0,\n",
       "  'rate': 0.1,\n",
       "  'down_payment': 0.0,\n",
       "  'emi': 17584},\n",
       " {'amount': 628400.0,\n",
       "  'duration': 120.0,\n",
       "  'rate': 0.12,\n",
       "  'down_payment': 100000.0,\n",
       "  'emi': 7582},\n",
       " {'amount': 4637400.0,\n",
       "  'duration': 240.0,\n",
       "  'rate': 0.06,\n",
       "  'down_payment': 0.0,\n",
       "  'emi': 33224},\n",
       " {'amount': 42900.0,\n",
       "  'duration': 90.0,\n",
       "  'rate': 0.07,\n",
       "  'down_payment': 8900.0,\n",
       "  'emi': 487},\n",
       " {'amount': 916000.0,\n",
       "  'duration': 16.0,\n",
       "  'rate': 0.13,\n",
       "  'down_payment': 0.0,\n",
       "  'emi': 62664},\n",
       " {'amount': 45230.0,\n",
       "  'duration': 48.0,\n",
       "  'rate': 0.08,\n",
       "  'down_payment': 4300.0,\n",
       "  'emi': 1000},\n",
       " {'amount': 991360.0,\n",
       "  'duration': 99.0,\n",
       "  'rate': 0.08,\n",
       "  'down_payment': 0.0,\n",
       "  'emi': 13712},\n",
       " {'amount': 423000.0,\n",
       "  'duration': 27.0,\n",
       "  'rate': 0.09,\n",
       "  'down_payment': 47200.0,\n",
       "  'emi': 15428}]"
      ]
     },
     "execution_count": 47,
     "metadata": {},
     "output_type": "execute_result"
    }
   ],
   "source": [
    "# now loans2 contains the emis for every loan in the file\n",
    "\n",
    "loans2"
   ]
  },
  {
   "cell_type": "code",
   "execution_count": 49,
   "id": "b5735300",
   "metadata": {},
   "outputs": [],
   "source": [
    "# now we write this back to a new file called 'emis2'\n",
    "\n",
    "with open('./data/emis2.txt', 'w') as f:\n",
    "    for loan in loans2:\n",
    "        f.write('{},{},{},{},{}\\n'.format(\n",
    "            loan['amount'],\n",
    "            loan['duration'],\n",
    "            loan['rate'],\n",
    "            loan['down_payment'],\n",
    "            loan['emi']))"
   ]
  },
  {
   "cell_type": "code",
   "execution_count": 50,
   "id": "347e0072",
   "metadata": {},
   "outputs": [
    {
     "data": {
      "text/plain": [
       "['emis2.txt', 'loans1.txt', 'loans2.txt', 'loans3.txt']"
      ]
     },
     "execution_count": 50,
     "metadata": {},
     "output_type": "execute_result"
    }
   ],
   "source": [
    "# now verifying that the file was created and written to as expected\n",
    "\n",
    "os.listdir('data')\n",
    "\n",
    "# we can see the file includes emis2.txt which confirms it"
   ]
  },
  {
   "cell_type": "markdown",
   "id": "c519e38a",
   "metadata": {},
   "source": [
    "## Creating a generic function for taking a list of dictionaries and writes it to a file in csv format"
   ]
  },
  {
   "cell_type": "code",
   "execution_count": 53,
   "id": "8bf5b68c",
   "metadata": {},
   "outputs": [],
   "source": [
    "def write_csv(items, path):\n",
    "    # opens the file in write mode\n",
    "    with open(path, 'w') as f:\n",
    "        # return if there's nothing to write\n",
    "        if len(items) == 0:\n",
    "            return\n",
    "        \n",
    "        # writing the headers in the first line\n",
    "        headers = list(items[0].keys())\n",
    "        f.write(','.join(headers) + '\\n')\n",
    "        \n",
    "        # write one item per line\n",
    "        for item in items:\n",
    "            values = []\n",
    "            for header in headers:\n",
    "                values.append(str(item.get(header, \"\")))\n",
    "            f.write(','.join(values) + \"\\n\")"
   ]
  },
  {
   "cell_type": "code",
   "execution_count": 55,
   "id": "12d27e7a",
   "metadata": {},
   "outputs": [],
   "source": [
    "# trying out the function on a another file (loans3)\n",
    "\n",
    "loans3 = read_csv('./data/loans3.txt')"
   ]
  },
  {
   "cell_type": "code",
   "execution_count": 56,
   "id": "da1d95c4",
   "metadata": {},
   "outputs": [],
   "source": [
    "# passing loans3 into the function that calculates emis\n",
    "\n",
    "compute_emis(loans3)"
   ]
  },
  {
   "cell_type": "code",
   "execution_count": 57,
   "id": "d7894513",
   "metadata": {},
   "outputs": [],
   "source": [
    "# writing the results to a new csv called 'emis3'\n",
    "\n",
    "write_csv(loans3, './data/emis3.txt')"
   ]
  },
  {
   "cell_type": "code",
   "execution_count": 58,
   "id": "8ebc602b",
   "metadata": {},
   "outputs": [
    {
     "name": "stdout",
     "output_type": "stream",
     "text": [
      "amount,duration,rate,down_payment,emi\n",
      "100000.0,36.0,0.08,20000.0,2507\n",
      "200000.0,12.0,0.1,0.0,17584\n",
      "628400.0,120.0,0.12,100000.0,7582\n",
      "4637400.0,240.0,0.06,0.0,33224\n",
      "42900.0,90.0,0.07,8900.0,487\n",
      "916000.0,16.0,0.13,0.0,62664\n",
      "45230.0,48.0,0.08,4300.0,1000\n",
      "991360.0,99.0,0.08,0.0,13712\n",
      "423000.0,27.0,0.09,47200.0,15428\n",
      "\n"
     ]
    }
   ],
   "source": [
    "# reading the newly made file to verify it has been created correctly\n",
    "\n",
    "with open('./data/emis3.txt', 'r') as f:\n",
    "    print(f.read())"
   ]
  },
  {
   "cell_type": "markdown",
   "id": "d4c7b5ae",
   "metadata": {},
   "source": [
    "# Creating a for loop that:\n",
    "1. reads each downloaded file\n",
    "2. calculates the EMI\n",
    "3. and writes results back to new files"
   ]
  },
  {
   "cell_type": "code",
   "execution_count": 63,
   "id": "36198fa3",
   "metadata": {},
   "outputs": [],
   "source": [
    "# for loans 1,2 and 3, read the csv, compute the EMIs and write results back to a new csv\n",
    "\n",
    "for i in range(1,4):\n",
    "    loans = read_csv('./data/loans{}.txt'.format(i))\n",
    "    compute_emis(loans)\n",
    "    write_csv(loans, './data/emis{}.txt'.format(i))"
   ]
  },
  {
   "cell_type": "code",
   "execution_count": 64,
   "id": "ed46209c",
   "metadata": {},
   "outputs": [
    {
     "data": {
      "text/plain": [
       "['emis1.txt',\n",
       " 'emis2.txt',\n",
       " 'emis3.txt',\n",
       " 'loans1.txt',\n",
       " 'loans2.txt',\n",
       " 'loans3.txt']"
      ]
     },
     "execution_count": 64,
     "metadata": {},
     "output_type": "execute_result"
    }
   ],
   "source": [
    "# checking the directory to verify the new csvs have been written\n",
    "\n",
    "os.listdir('./data')"
   ]
  }
 ],
 "metadata": {
  "kernelspec": {
   "display_name": "Python 3",
   "language": "python",
   "name": "python3"
  },
  "language_info": {
   "codemirror_mode": {
    "name": "ipython",
    "version": 3
   },
   "file_extension": ".py",
   "mimetype": "text/x-python",
   "name": "python",
   "nbconvert_exporter": "python",
   "pygments_lexer": "ipython3",
   "version": "3.8.8"
  }
 },
 "nbformat": 4,
 "nbformat_minor": 5
}
